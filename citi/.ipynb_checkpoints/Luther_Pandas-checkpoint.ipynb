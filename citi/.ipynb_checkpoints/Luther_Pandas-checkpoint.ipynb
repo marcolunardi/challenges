{
 "cells": [
  {
   "cell_type": "code",
   "execution_count": 1,
   "metadata": {
    "collapsed": true
   },
   "outputs": [],
   "source": [
    "import pickle\n",
    "import re\n",
    "from datetime import datetime\n",
    "import numpy as np\n",
    "randn = np.random.randn\n",
    "from pandas import *\n",
    "import pandas as pd\n",
    "import matplotlib.pyplot as plt\n",
    "import statsmodels.formula.api as smf\n",
    "from scipy.stats import linregress\n",
    "from pylab import *"
   ]
  },
  {
   "cell_type": "code",
   "execution_count": 2,
   "metadata": {
    "collapsed": false
   },
   "outputs": [
    {
     "data": {
      "text/plain": [
       "'0.15.2'"
      ]
     },
     "execution_count": 2,
     "metadata": {},
     "output_type": "execute_result"
    }
   ],
   "source": [
    "pd.options.mode.chained_assignment = None\n",
    "pd.__version__"
   ]
  },
  {
   "cell_type": "code",
   "execution_count": 3,
   "metadata": {
    "collapsed": false
   },
   "outputs": [],
   "source": [
    "with open('movies2.pkl', 'r') as f:\n",
    "    moviesdata = pickle.load(f)\n",
    "years = range(1999, 2014)"
   ]
  },
  {
   "cell_type": "code",
   "execution_count": 4,
   "metadata": {
    "collapsed": false
   },
   "outputs": [
    {
     "data": {
      "text/html": [
       "<div style=\"max-height:1000px;max-width:1500px;overflow:auto;\">\n",
       "<table border=\"1\" class=\"dataframe\">\n",
       "  <thead>\n",
       "    <tr style=\"text-align: right;\">\n",
       "      <th></th>\n",
       "      <th>nominations</th>\n",
       "      <th>oscars</th>\n",
       "      <th>theaters</th>\n",
       "      <th>title</th>\n",
       "      <th>worldgross</th>\n",
       "      <th>year</th>\n",
       "    </tr>\n",
       "  </thead>\n",
       "  <tbody>\n",
       "    <tr>\n",
       "      <th>0</th>\n",
       "      <td> 3</td>\n",
       "      <td> 0</td>\n",
       "      <td> 3126</td>\n",
       "      <td> Star Wars: Episode I - The Phantom Menace</td>\n",
       "      <td> 1027044677</td>\n",
       "      <td>1999-12-31</td>\n",
       "    </tr>\n",
       "    <tr>\n",
       "      <th>1</th>\n",
       "      <td> 6</td>\n",
       "      <td> 0</td>\n",
       "      <td> 2821</td>\n",
       "      <td>                           The Sixth Sense</td>\n",
       "      <td>  672806292</td>\n",
       "      <td>1999-12-31</td>\n",
       "    </tr>\n",
       "    <tr>\n",
       "      <th>2</th>\n",
       "      <td> 1</td>\n",
       "      <td> 0</td>\n",
       "      <td> 3257</td>\n",
       "      <td>                               Toy Story 2</td>\n",
       "      <td>  485015179</td>\n",
       "      <td>1999-12-31</td>\n",
       "    </tr>\n",
       "  </tbody>\n",
       "</table>\n",
       "</div>"
      ],
      "text/plain": [
       "   nominations  oscars  theaters                                      title  \\\n",
       "0            3       0      3126  Star Wars: Episode I - The Phantom Menace   \n",
       "1            6       0      2821                            The Sixth Sense   \n",
       "2            1       0      3257                                Toy Story 2   \n",
       "\n",
       "   worldgross       year  \n",
       "0  1027044677 1999-12-31  \n",
       "1   672806292 1999-12-31  \n",
       "2   485015179 1999-12-31  "
      ]
     },
     "execution_count": 4,
     "metadata": {},
     "output_type": "execute_result"
    }
   ],
   "source": [
    "moviesdata.head(3)"
   ]
  },
  {
   "cell_type": "code",
   "execution_count": 5,
   "metadata": {
    "collapsed": false
   },
   "outputs": [
    {
     "data": {
      "text/plain": [
       "544"
      ]
     },
     "execution_count": 5,
     "metadata": {},
     "output_type": "execute_result"
    }
   ],
   "source": [
    "len(moviesdata)"
   ]
  },
  {
   "cell_type": "code",
   "execution_count": 6,
   "metadata": {
    "collapsed": false
   },
   "outputs": [],
   "source": [
    "md = moviesdata[moviesdata.title != ('Twin Sisters')]\n",
    "md['gross'] = md['worldgross'] / md['theaters']\n",
    "md['awarded'] = md['oscars'] > 0"
   ]
  },
  {
   "cell_type": "code",
   "execution_count": 7,
   "metadata": {
    "collapsed": false
   },
   "outputs": [
    {
     "data": {
      "text/html": [
       "<div style=\"max-height:1000px;max-width:1500px;overflow:auto;\">\n",
       "<table border=\"1\" class=\"dataframe\">\n",
       "  <thead>\n",
       "    <tr style=\"text-align: right;\">\n",
       "      <th></th>\n",
       "      <th>nominations</th>\n",
       "      <th>oscars</th>\n",
       "      <th>theaters</th>\n",
       "      <th>title</th>\n",
       "      <th>worldgross</th>\n",
       "      <th>year</th>\n",
       "      <th>gross</th>\n",
       "      <th>awarded</th>\n",
       "    </tr>\n",
       "  </thead>\n",
       "  <tbody>\n",
       "    <tr>\n",
       "      <th>0</th>\n",
       "      <td> 3</td>\n",
       "      <td> 0</td>\n",
       "      <td> 3126</td>\n",
       "      <td> Star Wars: Episode I - The Phantom Menace</td>\n",
       "      <td> 1027044677</td>\n",
       "      <td>1999-12-31</td>\n",
       "      <td> 328549.160909</td>\n",
       "      <td> False</td>\n",
       "    </tr>\n",
       "    <tr>\n",
       "      <th>1</th>\n",
       "      <td> 6</td>\n",
       "      <td> 0</td>\n",
       "      <td> 2821</td>\n",
       "      <td>                           The Sixth Sense</td>\n",
       "      <td>  672806292</td>\n",
       "      <td>1999-12-31</td>\n",
       "      <td> 238499.217299</td>\n",
       "      <td> False</td>\n",
       "    </tr>\n",
       "    <tr>\n",
       "      <th>2</th>\n",
       "      <td> 1</td>\n",
       "      <td> 0</td>\n",
       "      <td> 3257</td>\n",
       "      <td>                               Toy Story 2</td>\n",
       "      <td>  485015179</td>\n",
       "      <td>1999-12-31</td>\n",
       "      <td> 148914.700338</td>\n",
       "      <td> False</td>\n",
       "    </tr>\n",
       "  </tbody>\n",
       "</table>\n",
       "</div>"
      ],
      "text/plain": [
       "   nominations  oscars  theaters                                      title  \\\n",
       "0            3       0      3126  Star Wars: Episode I - The Phantom Menace   \n",
       "1            6       0      2821                            The Sixth Sense   \n",
       "2            1       0      3257                                Toy Story 2   \n",
       "\n",
       "   worldgross       year          gross awarded  \n",
       "0  1027044677 1999-12-31  328549.160909   False  \n",
       "1   672806292 1999-12-31  238499.217299   False  \n",
       "2   485015179 1999-12-31  148914.700338   False  "
      ]
     },
     "execution_count": 7,
     "metadata": {},
     "output_type": "execute_result"
    }
   ],
   "source": [
    "md.head(3)"
   ]
  },
  {
   "cell_type": "code",
   "execution_count": 8,
   "metadata": {
    "collapsed": false
   },
   "outputs": [
    {
     "data": {
      "text/plain": [
       "543"
      ]
     },
     "execution_count": 8,
     "metadata": {},
     "output_type": "execute_result"
    }
   ],
   "source": [
    "len(md)"
   ]
  },
  {
   "cell_type": "code",
   "execution_count": 9,
   "metadata": {
    "collapsed": true
   },
   "outputs": [],
   "source": [
    "mdw = md[md.awarded == True]\n",
    "mdnw = md[md.awarded == False]"
   ]
  },
  {
   "cell_type": "code",
   "execution_count": 10,
   "metadata": {
    "collapsed": false
   },
   "outputs": [
    {
     "data": {
      "text/html": [
       "<div style=\"max-height:1000px;max-width:1500px;overflow:auto;\">\n",
       "<table border=\"1\" class=\"dataframe\">\n",
       "  <thead>\n",
       "    <tr style=\"text-align: right;\">\n",
       "      <th></th>\n",
       "      <th>nominations</th>\n",
       "      <th>oscars</th>\n",
       "      <th>theaters</th>\n",
       "      <th>worldgross</th>\n",
       "      <th>gross</th>\n",
       "      <th>awarded</th>\n",
       "    </tr>\n",
       "  </thead>\n",
       "  <tbody>\n",
       "    <tr>\n",
       "      <th>0</th>\n",
       "      <td> 1</td>\n",
       "      <td> 0.125000</td>\n",
       "      <td> 1375.335714</td>\n",
       "      <td> 1.267125e+08</td>\n",
       "      <td> 107047.453917</td>\n",
       "      <td> 0.125000</td>\n",
       "    </tr>\n",
       "    <tr>\n",
       "      <th>1</th>\n",
       "      <td> 2</td>\n",
       "      <td> 0.279070</td>\n",
       "      <td> 1824.069767</td>\n",
       "      <td> 1.922254e+08</td>\n",
       "      <td> 109590.241121</td>\n",
       "      <td> 0.232558</td>\n",
       "    </tr>\n",
       "    <tr>\n",
       "      <th>2</th>\n",
       "      <td> 3</td>\n",
       "      <td> 0.395833</td>\n",
       "      <td> 2077.500000</td>\n",
       "      <td> 3.173186e+08</td>\n",
       "      <td> 126599.034692</td>\n",
       "      <td> 0.291667</td>\n",
       "    </tr>\n",
       "  </tbody>\n",
       "</table>\n",
       "</div>"
      ],
      "text/plain": [
       "   nominations    oscars     theaters    worldgross          gross   awarded\n",
       "0            1  0.125000  1375.335714  1.267125e+08  107047.453917  0.125000\n",
       "1            2  0.279070  1824.069767  1.922254e+08  109590.241121  0.232558\n",
       "2            3  0.395833  2077.500000  3.173186e+08  126599.034692  0.291667"
      ]
     },
     "execution_count": 10,
     "metadata": {},
     "output_type": "execute_result"
    }
   ],
   "source": [
    "mdnom = md.groupby(['nominations'])\n",
    "mdnom = mdnom.mean()\n",
    "mdnom = mdnom.reset_index()\n",
    "mdnom.head(3)"
   ]
  },
  {
   "cell_type": "code",
   "execution_count": 11,
   "metadata": {
    "collapsed": false
   },
   "outputs": [
    {
     "data": {
      "text/html": [
       "<div style=\"max-height:1000px;max-width:1500px;overflow:auto;\">\n",
       "<table border=\"1\" class=\"dataframe\">\n",
       "  <thead>\n",
       "    <tr style=\"text-align: right;\">\n",
       "      <th></th>\n",
       "      <th>oscars</th>\n",
       "      <th>nominations</th>\n",
       "      <th>theaters</th>\n",
       "      <th>worldgross</th>\n",
       "      <th>gross</th>\n",
       "      <th>awarded</th>\n",
       "    </tr>\n",
       "  </thead>\n",
       "  <tbody>\n",
       "    <tr>\n",
       "      <th>0</th>\n",
       "      <td> 0</td>\n",
       "      <td> 1.763780</td>\n",
       "      <td> 1581.884514</td>\n",
       "      <td> 1.619038e+08</td>\n",
       "      <td> 106418.119507</td>\n",
       "      <td> False</td>\n",
       "    </tr>\n",
       "    <tr>\n",
       "      <th>1</th>\n",
       "      <td> 1</td>\n",
       "      <td> 3.010101</td>\n",
       "      <td> 1696.313131</td>\n",
       "      <td> 1.663717e+08</td>\n",
       "      <td> 105417.120428</td>\n",
       "      <td>  True</td>\n",
       "    </tr>\n",
       "    <tr>\n",
       "      <th>2</th>\n",
       "      <td> 2</td>\n",
       "      <td> 5.535714</td>\n",
       "      <td> 2450.678571</td>\n",
       "      <td> 3.815923e+08</td>\n",
       "      <td> 139262.793538</td>\n",
       "      <td>  True</td>\n",
       "    </tr>\n",
       "  </tbody>\n",
       "</table>\n",
       "</div>"
      ],
      "text/plain": [
       "   oscars  nominations     theaters    worldgross          gross awarded\n",
       "0       0     1.763780  1581.884514  1.619038e+08  106418.119507   False\n",
       "1       1     3.010101  1696.313131  1.663717e+08  105417.120428    True\n",
       "2       2     5.535714  2450.678571  3.815923e+08  139262.793538    True"
      ]
     },
     "execution_count": 11,
     "metadata": {},
     "output_type": "execute_result"
    }
   ],
   "source": [
    "mdoscall = md.groupby(['oscars'])\n",
    "mdoscall = mdoscall.mean()\n",
    "mdoscall = mdoscall.reset_index()\n",
    "mdoscall.head(3)"
   ]
  },
  {
   "cell_type": "code",
   "execution_count": 12,
   "metadata": {
    "collapsed": false
   },
   "outputs": [
    {
     "data": {
      "text/html": [
       "<div style=\"max-height:1000px;max-width:1500px;overflow:auto;\">\n",
       "<table border=\"1\" class=\"dataframe\">\n",
       "  <thead>\n",
       "    <tr style=\"text-align: right;\">\n",
       "      <th></th>\n",
       "      <th>oscars</th>\n",
       "      <th>nominations</th>\n",
       "      <th>theaters</th>\n",
       "      <th>worldgross</th>\n",
       "      <th>gross</th>\n",
       "      <th>awarded</th>\n",
       "    </tr>\n",
       "  </thead>\n",
       "  <tbody>\n",
       "    <tr>\n",
       "      <th>0</th>\n",
       "      <td> 1</td>\n",
       "      <td> 3.010101</td>\n",
       "      <td> 1696.313131</td>\n",
       "      <td> 1.663717e+08</td>\n",
       "      <td> 105417.120428</td>\n",
       "      <td> True</td>\n",
       "    </tr>\n",
       "    <tr>\n",
       "      <th>1</th>\n",
       "      <td> 2</td>\n",
       "      <td> 5.535714</td>\n",
       "      <td> 2450.678571</td>\n",
       "      <td> 3.815923e+08</td>\n",
       "      <td> 139262.793538</td>\n",
       "      <td> True</td>\n",
       "    </tr>\n",
       "    <tr>\n",
       "      <th>2</th>\n",
       "      <td> 3</td>\n",
       "      <td> 7.142857</td>\n",
       "      <td> 2363.500000</td>\n",
       "      <td> 4.213766e+08</td>\n",
       "      <td> 151124.890474</td>\n",
       "      <td> True</td>\n",
       "    </tr>\n",
       "  </tbody>\n",
       "</table>\n",
       "</div>"
      ],
      "text/plain": [
       "   oscars  nominations     theaters    worldgross          gross awarded\n",
       "0       1     3.010101  1696.313131  1.663717e+08  105417.120428    True\n",
       "1       2     5.535714  2450.678571  3.815923e+08  139262.793538    True\n",
       "2       3     7.142857  2363.500000  4.213766e+08  151124.890474    True"
      ]
     },
     "execution_count": 12,
     "metadata": {},
     "output_type": "execute_result"
    }
   ],
   "source": [
    "mdosc = mdw.groupby(['oscars'])\n",
    "mdosc = mdosc.mean()\n",
    "mdosc = mdosc.reset_index()\n",
    "mdosc.head(3)"
   ]
  },
  {
   "cell_type": "code",
   "execution_count": 13,
   "metadata": {
    "collapsed": false
   },
   "outputs": [
    {
     "data": {
      "text/html": [
       "<div style=\"max-height:1000px;max-width:1500px;overflow:auto;\">\n",
       "<table border=\"1\" class=\"dataframe\">\n",
       "  <thead>\n",
       "    <tr style=\"text-align: right;\">\n",
       "      <th></th>\n",
       "      <th></th>\n",
       "      <th>nominations</th>\n",
       "      <th>oscars</th>\n",
       "      <th>theaters</th>\n",
       "      <th>worldgross</th>\n",
       "      <th>gross</th>\n",
       "    </tr>\n",
       "    <tr>\n",
       "      <th>year</th>\n",
       "      <th>awarded</th>\n",
       "      <th></th>\n",
       "      <th></th>\n",
       "      <th></th>\n",
       "      <th></th>\n",
       "      <th></th>\n",
       "    </tr>\n",
       "  </thead>\n",
       "  <tbody>\n",
       "    <tr>\n",
       "      <th>1999-12-31</th>\n",
       "      <th>True</th>\n",
       "      <td> 3.571429</td>\n",
       "      <td> 2.142857</td>\n",
       "      <td> 2130.142857</td>\n",
       "      <td> 2.398350e+08</td>\n",
       "      <td> 156146.161943</td>\n",
       "    </tr>\n",
       "    <tr>\n",
       "      <th>2000-12-31</th>\n",
       "      <th>True</th>\n",
       "      <td> 5.111111</td>\n",
       "      <td> 2.111111</td>\n",
       "      <td> 2240.777778</td>\n",
       "      <td> 1.887922e+08</td>\n",
       "      <td>  75854.834301</td>\n",
       "    </tr>\n",
       "    <tr>\n",
       "      <th>2001-12-31</th>\n",
       "      <th>True</th>\n",
       "      <td> 5.400000</td>\n",
       "      <td> 1.800000</td>\n",
       "      <td> 2252.500000</td>\n",
       "      <td> 2.803007e+08</td>\n",
       "      <td> 109350.116589</td>\n",
       "    </tr>\n",
       "    <tr>\n",
       "      <th>2002-12-31</th>\n",
       "      <th>True</th>\n",
       "      <td> 5.090909</td>\n",
       "      <td> 1.818182</td>\n",
       "      <td> 1434.090909</td>\n",
       "      <td> 2.144231e+08</td>\n",
       "      <td> 157261.134153</td>\n",
       "    </tr>\n",
       "    <tr>\n",
       "      <th>2003-12-31</th>\n",
       "      <th>True</th>\n",
       "      <td> 4.700000</td>\n",
       "      <td> 2.200000</td>\n",
       "      <td> 1706.500000</td>\n",
       "      <td> 2.834938e+08</td>\n",
       "      <td> 152145.221865</td>\n",
       "    </tr>\n",
       "    <tr>\n",
       "      <th>2004-12-31</th>\n",
       "      <th>True</th>\n",
       "      <td> 4.500000</td>\n",
       "      <td> 1.750000</td>\n",
       "      <td> 2012.750000</td>\n",
       "      <td> 2.148303e+08</td>\n",
       "      <td> 121575.677591</td>\n",
       "    </tr>\n",
       "    <tr>\n",
       "      <th>2005-12-31</th>\n",
       "      <th>True</th>\n",
       "      <td> 3.916667</td>\n",
       "      <td> 1.666667</td>\n",
       "      <td> 2322.250000</td>\n",
       "      <td> 2.074939e+08</td>\n",
       "      <td>  76498.163527</td>\n",
       "    </tr>\n",
       "    <tr>\n",
       "      <th>2006-12-31</th>\n",
       "      <th>True</th>\n",
       "      <td> 3.846154</td>\n",
       "      <td> 1.615385</td>\n",
       "      <td> 1730.538462</td>\n",
       "      <td> 1.981067e+08</td>\n",
       "      <td>  94937.613551</td>\n",
       "    </tr>\n",
       "    <tr>\n",
       "      <th>2007-12-31</th>\n",
       "      <th>True</th>\n",
       "      <td> 4.153846</td>\n",
       "      <td> 1.538462</td>\n",
       "      <td> 1957.307692</td>\n",
       "      <td> 1.962587e+08</td>\n",
       "      <td> 138002.040424</td>\n",
       "    </tr>\n",
       "    <tr>\n",
       "      <th>2008-12-31</th>\n",
       "      <th>True</th>\n",
       "      <td> 5.090909</td>\n",
       "      <td> 2.000000</td>\n",
       "      <td> 1690.000000</td>\n",
       "      <td> 2.332077e+08</td>\n",
       "      <td> 100351.533480</td>\n",
       "    </tr>\n",
       "    <tr>\n",
       "      <th>2009-12-31</th>\n",
       "      <th>True</th>\n",
       "      <td> 5.000000</td>\n",
       "      <td> 2.000000</td>\n",
       "      <td> 2159.600000</td>\n",
       "      <td> 4.724509e+08</td>\n",
       "      <td> 154403.150057</td>\n",
       "    </tr>\n",
       "    <tr>\n",
       "      <th>2010-12-31</th>\n",
       "      <th>True</th>\n",
       "      <td> 5.100000</td>\n",
       "      <td> 2.100000</td>\n",
       "      <td> 2564.400000</td>\n",
       "      <td> 4.193519e+08</td>\n",
       "      <td> 146051.305190</td>\n",
       "    </tr>\n",
       "    <tr>\n",
       "      <th>2011-12-31</th>\n",
       "      <th>True</th>\n",
       "      <td> 3.916667</td>\n",
       "      <td> 1.750000</td>\n",
       "      <td> 1876.166667</td>\n",
       "      <td> 1.388773e+08</td>\n",
       "      <td>  89761.658693</td>\n",
       "    </tr>\n",
       "    <tr>\n",
       "      <th>2012-12-31</th>\n",
       "      <th>True</th>\n",
       "      <td> 5.615385</td>\n",
       "      <td> 1.769231</td>\n",
       "      <td> 2215.615385</td>\n",
       "      <td> 3.148937e+08</td>\n",
       "      <td> 118216.755326</td>\n",
       "    </tr>\n",
       "    <tr>\n",
       "      <th>2013-12-31</th>\n",
       "      <th>True</th>\n",
       "      <td> 4.333333</td>\n",
       "      <td> 2.333333</td>\n",
       "      <td> 1881.333333</td>\n",
       "      <td> 3.061932e+08</td>\n",
       "      <td> 135374.350076</td>\n",
       "    </tr>\n",
       "  </tbody>\n",
       "</table>\n",
       "</div>"
      ],
      "text/plain": [
       "                    nominations    oscars     theaters    worldgross  \\\n",
       "year       awarded                                                     \n",
       "1999-12-31 True        3.571429  2.142857  2130.142857  2.398350e+08   \n",
       "2000-12-31 True        5.111111  2.111111  2240.777778  1.887922e+08   \n",
       "2001-12-31 True        5.400000  1.800000  2252.500000  2.803007e+08   \n",
       "2002-12-31 True        5.090909  1.818182  1434.090909  2.144231e+08   \n",
       "2003-12-31 True        4.700000  2.200000  1706.500000  2.834938e+08   \n",
       "2004-12-31 True        4.500000  1.750000  2012.750000  2.148303e+08   \n",
       "2005-12-31 True        3.916667  1.666667  2322.250000  2.074939e+08   \n",
       "2006-12-31 True        3.846154  1.615385  1730.538462  1.981067e+08   \n",
       "2007-12-31 True        4.153846  1.538462  1957.307692  1.962587e+08   \n",
       "2008-12-31 True        5.090909  2.000000  1690.000000  2.332077e+08   \n",
       "2009-12-31 True        5.000000  2.000000  2159.600000  4.724509e+08   \n",
       "2010-12-31 True        5.100000  2.100000  2564.400000  4.193519e+08   \n",
       "2011-12-31 True        3.916667  1.750000  1876.166667  1.388773e+08   \n",
       "2012-12-31 True        5.615385  1.769231  2215.615385  3.148937e+08   \n",
       "2013-12-31 True        4.333333  2.333333  1881.333333  3.061932e+08   \n",
       "\n",
       "                            gross  \n",
       "year       awarded                 \n",
       "1999-12-31 True     156146.161943  \n",
       "2000-12-31 True      75854.834301  \n",
       "2001-12-31 True     109350.116589  \n",
       "2002-12-31 True     157261.134153  \n",
       "2003-12-31 True     152145.221865  \n",
       "2004-12-31 True     121575.677591  \n",
       "2005-12-31 True      76498.163527  \n",
       "2006-12-31 True      94937.613551  \n",
       "2007-12-31 True     138002.040424  \n",
       "2008-12-31 True     100351.533480  \n",
       "2009-12-31 True     154403.150057  \n",
       "2010-12-31 True     146051.305190  \n",
       "2011-12-31 True      89761.658693  \n",
       "2012-12-31 True     118216.755326  \n",
       "2013-12-31 True     135374.350076  "
      ]
     },
     "execution_count": 13,
     "metadata": {},
     "output_type": "execute_result"
    }
   ],
   "source": [
    "mdgt = mdw.groupby(['year', 'awarded'])\n",
    "mdmt = mdgt.mean()\n",
    "mdmt"
   ]
  },
  {
   "cell_type": "code",
   "execution_count": 14,
   "metadata": {
    "collapsed": false
   },
   "outputs": [
    {
     "data": {
      "text/html": [
       "<div style=\"max-height:1000px;max-width:1500px;overflow:auto;\">\n",
       "<table border=\"1\" class=\"dataframe\">\n",
       "  <thead>\n",
       "    <tr style=\"text-align: right;\">\n",
       "      <th></th>\n",
       "      <th>year</th>\n",
       "      <th>awarded</th>\n",
       "      <th>nominations</th>\n",
       "      <th>oscars</th>\n",
       "      <th>theaters</th>\n",
       "      <th>worldgross</th>\n",
       "      <th>gross</th>\n",
       "    </tr>\n",
       "  </thead>\n",
       "  <tbody>\n",
       "    <tr>\n",
       "      <th>0 </th>\n",
       "      <td> 1999</td>\n",
       "      <td> True</td>\n",
       "      <td> 3.571429</td>\n",
       "      <td> 2.142857</td>\n",
       "      <td> 2130.142857</td>\n",
       "      <td> 2.398350e+08</td>\n",
       "      <td> 156146.161943</td>\n",
       "    </tr>\n",
       "    <tr>\n",
       "      <th>1 </th>\n",
       "      <td> 2000</td>\n",
       "      <td> True</td>\n",
       "      <td> 5.111111</td>\n",
       "      <td> 2.111111</td>\n",
       "      <td> 2240.777778</td>\n",
       "      <td> 1.887922e+08</td>\n",
       "      <td>  75854.834301</td>\n",
       "    </tr>\n",
       "    <tr>\n",
       "      <th>2 </th>\n",
       "      <td> 2001</td>\n",
       "      <td> True</td>\n",
       "      <td> 5.400000</td>\n",
       "      <td> 1.800000</td>\n",
       "      <td> 2252.500000</td>\n",
       "      <td> 2.803007e+08</td>\n",
       "      <td> 109350.116589</td>\n",
       "    </tr>\n",
       "    <tr>\n",
       "      <th>3 </th>\n",
       "      <td> 2002</td>\n",
       "      <td> True</td>\n",
       "      <td> 5.090909</td>\n",
       "      <td> 1.818182</td>\n",
       "      <td> 1434.090909</td>\n",
       "      <td> 2.144231e+08</td>\n",
       "      <td> 157261.134153</td>\n",
       "    </tr>\n",
       "    <tr>\n",
       "      <th>4 </th>\n",
       "      <td> 2003</td>\n",
       "      <td> True</td>\n",
       "      <td> 4.700000</td>\n",
       "      <td> 2.200000</td>\n",
       "      <td> 1706.500000</td>\n",
       "      <td> 2.834938e+08</td>\n",
       "      <td> 152145.221865</td>\n",
       "    </tr>\n",
       "    <tr>\n",
       "      <th>5 </th>\n",
       "      <td> 2004</td>\n",
       "      <td> True</td>\n",
       "      <td> 4.500000</td>\n",
       "      <td> 1.750000</td>\n",
       "      <td> 2012.750000</td>\n",
       "      <td> 2.148303e+08</td>\n",
       "      <td> 121575.677591</td>\n",
       "    </tr>\n",
       "    <tr>\n",
       "      <th>6 </th>\n",
       "      <td> 2005</td>\n",
       "      <td> True</td>\n",
       "      <td> 3.916667</td>\n",
       "      <td> 1.666667</td>\n",
       "      <td> 2322.250000</td>\n",
       "      <td> 2.074939e+08</td>\n",
       "      <td>  76498.163527</td>\n",
       "    </tr>\n",
       "    <tr>\n",
       "      <th>7 </th>\n",
       "      <td> 2006</td>\n",
       "      <td> True</td>\n",
       "      <td> 3.846154</td>\n",
       "      <td> 1.615385</td>\n",
       "      <td> 1730.538462</td>\n",
       "      <td> 1.981067e+08</td>\n",
       "      <td>  94937.613551</td>\n",
       "    </tr>\n",
       "    <tr>\n",
       "      <th>8 </th>\n",
       "      <td> 2007</td>\n",
       "      <td> True</td>\n",
       "      <td> 4.153846</td>\n",
       "      <td> 1.538462</td>\n",
       "      <td> 1957.307692</td>\n",
       "      <td> 1.962587e+08</td>\n",
       "      <td> 138002.040424</td>\n",
       "    </tr>\n",
       "    <tr>\n",
       "      <th>9 </th>\n",
       "      <td> 2008</td>\n",
       "      <td> True</td>\n",
       "      <td> 5.090909</td>\n",
       "      <td> 2.000000</td>\n",
       "      <td> 1690.000000</td>\n",
       "      <td> 2.332077e+08</td>\n",
       "      <td> 100351.533480</td>\n",
       "    </tr>\n",
       "    <tr>\n",
       "      <th>10</th>\n",
       "      <td> 2009</td>\n",
       "      <td> True</td>\n",
       "      <td> 5.000000</td>\n",
       "      <td> 2.000000</td>\n",
       "      <td> 2159.600000</td>\n",
       "      <td> 4.724509e+08</td>\n",
       "      <td> 154403.150057</td>\n",
       "    </tr>\n",
       "    <tr>\n",
       "      <th>11</th>\n",
       "      <td> 2010</td>\n",
       "      <td> True</td>\n",
       "      <td> 5.100000</td>\n",
       "      <td> 2.100000</td>\n",
       "      <td> 2564.400000</td>\n",
       "      <td> 4.193519e+08</td>\n",
       "      <td> 146051.305190</td>\n",
       "    </tr>\n",
       "    <tr>\n",
       "      <th>12</th>\n",
       "      <td> 2011</td>\n",
       "      <td> True</td>\n",
       "      <td> 3.916667</td>\n",
       "      <td> 1.750000</td>\n",
       "      <td> 1876.166667</td>\n",
       "      <td> 1.388773e+08</td>\n",
       "      <td>  89761.658693</td>\n",
       "    </tr>\n",
       "    <tr>\n",
       "      <th>13</th>\n",
       "      <td> 2012</td>\n",
       "      <td> True</td>\n",
       "      <td> 5.615385</td>\n",
       "      <td> 1.769231</td>\n",
       "      <td> 2215.615385</td>\n",
       "      <td> 3.148937e+08</td>\n",
       "      <td> 118216.755326</td>\n",
       "    </tr>\n",
       "    <tr>\n",
       "      <th>14</th>\n",
       "      <td> 2013</td>\n",
       "      <td> True</td>\n",
       "      <td> 4.333333</td>\n",
       "      <td> 2.333333</td>\n",
       "      <td> 1881.333333</td>\n",
       "      <td> 3.061932e+08</td>\n",
       "      <td> 135374.350076</td>\n",
       "    </tr>\n",
       "  </tbody>\n",
       "</table>\n",
       "</div>"
      ],
      "text/plain": [
       "    year awarded  nominations    oscars     theaters    worldgross  \\\n",
       "0   1999    True     3.571429  2.142857  2130.142857  2.398350e+08   \n",
       "1   2000    True     5.111111  2.111111  2240.777778  1.887922e+08   \n",
       "2   2001    True     5.400000  1.800000  2252.500000  2.803007e+08   \n",
       "3   2002    True     5.090909  1.818182  1434.090909  2.144231e+08   \n",
       "4   2003    True     4.700000  2.200000  1706.500000  2.834938e+08   \n",
       "5   2004    True     4.500000  1.750000  2012.750000  2.148303e+08   \n",
       "6   2005    True     3.916667  1.666667  2322.250000  2.074939e+08   \n",
       "7   2006    True     3.846154  1.615385  1730.538462  1.981067e+08   \n",
       "8   2007    True     4.153846  1.538462  1957.307692  1.962587e+08   \n",
       "9   2008    True     5.090909  2.000000  1690.000000  2.332077e+08   \n",
       "10  2009    True     5.000000  2.000000  2159.600000  4.724509e+08   \n",
       "11  2010    True     5.100000  2.100000  2564.400000  4.193519e+08   \n",
       "12  2011    True     3.916667  1.750000  1876.166667  1.388773e+08   \n",
       "13  2012    True     5.615385  1.769231  2215.615385  3.148937e+08   \n",
       "14  2013    True     4.333333  2.333333  1881.333333  3.061932e+08   \n",
       "\n",
       "            gross  \n",
       "0   156146.161943  \n",
       "1    75854.834301  \n",
       "2   109350.116589  \n",
       "3   157261.134153  \n",
       "4   152145.221865  \n",
       "5   121575.677591  \n",
       "6    76498.163527  \n",
       "7    94937.613551  \n",
       "8   138002.040424  \n",
       "9   100351.533480  \n",
       "10  154403.150057  \n",
       "11  146051.305190  \n",
       "12   89761.658693  \n",
       "13  118216.755326  \n",
       "14  135374.350076  "
      ]
     },
     "execution_count": 14,
     "metadata": {},
     "output_type": "execute_result"
    }
   ],
   "source": [
    "mdmt = mdmt.reset_index()\n",
    "mdmt['year'] = years\n",
    "mdmt"
   ]
  },
  {
   "cell_type": "code",
   "execution_count": 15,
   "metadata": {
    "collapsed": false
   },
   "outputs": [
    {
     "data": {
      "text/html": [
       "<div style=\"max-height:1000px;max-width:1500px;overflow:auto;\">\n",
       "<table border=\"1\" class=\"dataframe\">\n",
       "  <thead>\n",
       "    <tr style=\"text-align: right;\">\n",
       "      <th></th>\n",
       "      <th></th>\n",
       "      <th>nominations</th>\n",
       "      <th>oscars</th>\n",
       "      <th>theaters</th>\n",
       "      <th>worldgross</th>\n",
       "      <th>gross</th>\n",
       "    </tr>\n",
       "    <tr>\n",
       "      <th>year</th>\n",
       "      <th>awarded</th>\n",
       "      <th></th>\n",
       "      <th></th>\n",
       "      <th></th>\n",
       "      <th></th>\n",
       "      <th></th>\n",
       "    </tr>\n",
       "  </thead>\n",
       "  <tbody>\n",
       "    <tr>\n",
       "      <th>1999-12-31</th>\n",
       "      <th>False</th>\n",
       "      <td> 2.173913</td>\n",
       "      <td> 0</td>\n",
       "      <td> 1942.608696</td>\n",
       "      <td> 1.898343e+08</td>\n",
       "      <td>  86217.521566</td>\n",
       "    </tr>\n",
       "    <tr>\n",
       "      <th>2000-12-31</th>\n",
       "      <th>False</th>\n",
       "      <td> 1.708333</td>\n",
       "      <td> 0</td>\n",
       "      <td> 1352.000000</td>\n",
       "      <td> 1.064302e+08</td>\n",
       "      <td>  86466.918388</td>\n",
       "    </tr>\n",
       "    <tr>\n",
       "      <th>2001-12-31</th>\n",
       "      <th>False</th>\n",
       "      <td> 1.600000</td>\n",
       "      <td> 0</td>\n",
       "      <td> 1324.750000</td>\n",
       "      <td> 1.425776e+08</td>\n",
       "      <td>  99941.254106</td>\n",
       "    </tr>\n",
       "    <tr>\n",
       "      <th>2002-12-31</th>\n",
       "      <th>False</th>\n",
       "      <td> 1.789474</td>\n",
       "      <td> 0</td>\n",
       "      <td> 2288.210526</td>\n",
       "      <td> 2.257850e+08</td>\n",
       "      <td> 101727.132386</td>\n",
       "    </tr>\n",
       "    <tr>\n",
       "      <th>2003-12-31</th>\n",
       "      <th>False</th>\n",
       "      <td> 1.888889</td>\n",
       "      <td> 0</td>\n",
       "      <td>  888.333333</td>\n",
       "      <td> 8.329537e+07</td>\n",
       "      <td>  76069.459951</td>\n",
       "    </tr>\n",
       "    <tr>\n",
       "      <th>2004-12-31</th>\n",
       "      <th>False</th>\n",
       "      <td> 1.625000</td>\n",
       "      <td> 0</td>\n",
       "      <td> 1738.958333</td>\n",
       "      <td> 2.121923e+08</td>\n",
       "      <td> 155407.777371</td>\n",
       "    </tr>\n",
       "    <tr>\n",
       "      <th>2005-12-31</th>\n",
       "      <th>False</th>\n",
       "      <td> 1.807692</td>\n",
       "      <td> 0</td>\n",
       "      <td> 1398.846154</td>\n",
       "      <td> 1.699854e+08</td>\n",
       "      <td> 216506.745824</td>\n",
       "    </tr>\n",
       "    <tr>\n",
       "      <th>2006-12-31</th>\n",
       "      <th>False</th>\n",
       "      <td> 1.580645</td>\n",
       "      <td> 0</td>\n",
       "      <td> 1589.419355</td>\n",
       "      <td> 1.115047e+08</td>\n",
       "      <td> 135497.873439</td>\n",
       "    </tr>\n",
       "    <tr>\n",
       "      <th>2007-12-31</th>\n",
       "      <th>False</th>\n",
       "      <td> 1.560000</td>\n",
       "      <td> 0</td>\n",
       "      <td> 1578.160000</td>\n",
       "      <td> 1.308372e+08</td>\n",
       "      <td>  68590.745889</td>\n",
       "    </tr>\n",
       "    <tr>\n",
       "      <th>2008-12-31</th>\n",
       "      <th>False</th>\n",
       "      <td> 1.695652</td>\n",
       "      <td> 0</td>\n",
       "      <td> 1491.347826</td>\n",
       "      <td> 1.283056e+08</td>\n",
       "      <td>  78388.931536</td>\n",
       "    </tr>\n",
       "    <tr>\n",
       "      <th>2009-12-31</th>\n",
       "      <th>False</th>\n",
       "      <td> 1.880000</td>\n",
       "      <td> 0</td>\n",
       "      <td> 1510.320000</td>\n",
       "      <td> 1.510731e+08</td>\n",
       "      <td> 142992.948246</td>\n",
       "    </tr>\n",
       "    <tr>\n",
       "      <th>2010-12-31</th>\n",
       "      <th>False</th>\n",
       "      <td> 1.766667</td>\n",
       "      <td> 0</td>\n",
       "      <td> 1356.600000</td>\n",
       "      <td> 1.425112e+08</td>\n",
       "      <td>  75727.958835</td>\n",
       "    </tr>\n",
       "    <tr>\n",
       "      <th>2011-12-31</th>\n",
       "      <th>False</th>\n",
       "      <td> 1.785714</td>\n",
       "      <td> 0</td>\n",
       "      <td> 1900.500000</td>\n",
       "      <td> 2.302092e+08</td>\n",
       "      <td>  95760.291128</td>\n",
       "    </tr>\n",
       "    <tr>\n",
       "      <th>2012-12-31</th>\n",
       "      <th>False</th>\n",
       "      <td> 1.407407</td>\n",
       "      <td> 0</td>\n",
       "      <td> 1612.925926</td>\n",
       "      <td> 1.990857e+08</td>\n",
       "      <td>  84871.786811</td>\n",
       "    </tr>\n",
       "    <tr>\n",
       "      <th>2013-12-31</th>\n",
       "      <th>False</th>\n",
       "      <td> 2.172414</td>\n",
       "      <td> 0</td>\n",
       "      <td> 1905.620690</td>\n",
       "      <td> 2.175930e+08</td>\n",
       "      <td>  89826.876370</td>\n",
       "    </tr>\n",
       "  </tbody>\n",
       "</table>\n",
       "</div>"
      ],
      "text/plain": [
       "                    nominations  oscars     theaters    worldgross  \\\n",
       "year       awarded                                                   \n",
       "1999-12-31 False       2.173913       0  1942.608696  1.898343e+08   \n",
       "2000-12-31 False       1.708333       0  1352.000000  1.064302e+08   \n",
       "2001-12-31 False       1.600000       0  1324.750000  1.425776e+08   \n",
       "2002-12-31 False       1.789474       0  2288.210526  2.257850e+08   \n",
       "2003-12-31 False       1.888889       0   888.333333  8.329537e+07   \n",
       "2004-12-31 False       1.625000       0  1738.958333  2.121923e+08   \n",
       "2005-12-31 False       1.807692       0  1398.846154  1.699854e+08   \n",
       "2006-12-31 False       1.580645       0  1589.419355  1.115047e+08   \n",
       "2007-12-31 False       1.560000       0  1578.160000  1.308372e+08   \n",
       "2008-12-31 False       1.695652       0  1491.347826  1.283056e+08   \n",
       "2009-12-31 False       1.880000       0  1510.320000  1.510731e+08   \n",
       "2010-12-31 False       1.766667       0  1356.600000  1.425112e+08   \n",
       "2011-12-31 False       1.785714       0  1900.500000  2.302092e+08   \n",
       "2012-12-31 False       1.407407       0  1612.925926  1.990857e+08   \n",
       "2013-12-31 False       2.172414       0  1905.620690  2.175930e+08   \n",
       "\n",
       "                            gross  \n",
       "year       awarded                 \n",
       "1999-12-31 False     86217.521566  \n",
       "2000-12-31 False     86466.918388  \n",
       "2001-12-31 False     99941.254106  \n",
       "2002-12-31 False    101727.132386  \n",
       "2003-12-31 False     76069.459951  \n",
       "2004-12-31 False    155407.777371  \n",
       "2005-12-31 False    216506.745824  \n",
       "2006-12-31 False    135497.873439  \n",
       "2007-12-31 False     68590.745889  \n",
       "2008-12-31 False     78388.931536  \n",
       "2009-12-31 False    142992.948246  \n",
       "2010-12-31 False     75727.958835  \n",
       "2011-12-31 False     95760.291128  \n",
       "2012-12-31 False     84871.786811  \n",
       "2013-12-31 False     89826.876370  "
      ]
     },
     "execution_count": 15,
     "metadata": {},
     "output_type": "execute_result"
    }
   ],
   "source": [
    "mdgf = mdnw.groupby(['year', 'awarded'])\n",
    "mdmf = mdgf.mean()\n",
    "mdmf"
   ]
  },
  {
   "cell_type": "code",
   "execution_count": 16,
   "metadata": {
    "collapsed": false
   },
   "outputs": [
    {
     "data": {
      "text/html": [
       "<div style=\"max-height:1000px;max-width:1500px;overflow:auto;\">\n",
       "<table border=\"1\" class=\"dataframe\">\n",
       "  <thead>\n",
       "    <tr style=\"text-align: right;\">\n",
       "      <th></th>\n",
       "      <th>year</th>\n",
       "      <th>awarded</th>\n",
       "      <th>nominations</th>\n",
       "      <th>oscars</th>\n",
       "      <th>theaters</th>\n",
       "      <th>worldgross</th>\n",
       "      <th>gross</th>\n",
       "    </tr>\n",
       "  </thead>\n",
       "  <tbody>\n",
       "    <tr>\n",
       "      <th>0 </th>\n",
       "      <td> 1999</td>\n",
       "      <td> False</td>\n",
       "      <td> 2.173913</td>\n",
       "      <td> 0</td>\n",
       "      <td> 1942.608696</td>\n",
       "      <td> 1.898343e+08</td>\n",
       "      <td>  86217.521566</td>\n",
       "    </tr>\n",
       "    <tr>\n",
       "      <th>1 </th>\n",
       "      <td> 2000</td>\n",
       "      <td> False</td>\n",
       "      <td> 1.708333</td>\n",
       "      <td> 0</td>\n",
       "      <td> 1352.000000</td>\n",
       "      <td> 1.064302e+08</td>\n",
       "      <td>  86466.918388</td>\n",
       "    </tr>\n",
       "    <tr>\n",
       "      <th>2 </th>\n",
       "      <td> 2001</td>\n",
       "      <td> False</td>\n",
       "      <td> 1.600000</td>\n",
       "      <td> 0</td>\n",
       "      <td> 1324.750000</td>\n",
       "      <td> 1.425776e+08</td>\n",
       "      <td>  99941.254106</td>\n",
       "    </tr>\n",
       "    <tr>\n",
       "      <th>3 </th>\n",
       "      <td> 2002</td>\n",
       "      <td> False</td>\n",
       "      <td> 1.789474</td>\n",
       "      <td> 0</td>\n",
       "      <td> 2288.210526</td>\n",
       "      <td> 2.257850e+08</td>\n",
       "      <td> 101727.132386</td>\n",
       "    </tr>\n",
       "    <tr>\n",
       "      <th>4 </th>\n",
       "      <td> 2003</td>\n",
       "      <td> False</td>\n",
       "      <td> 1.888889</td>\n",
       "      <td> 0</td>\n",
       "      <td>  888.333333</td>\n",
       "      <td> 8.329537e+07</td>\n",
       "      <td>  76069.459951</td>\n",
       "    </tr>\n",
       "    <tr>\n",
       "      <th>5 </th>\n",
       "      <td> 2004</td>\n",
       "      <td> False</td>\n",
       "      <td> 1.625000</td>\n",
       "      <td> 0</td>\n",
       "      <td> 1738.958333</td>\n",
       "      <td> 2.121923e+08</td>\n",
       "      <td> 155407.777371</td>\n",
       "    </tr>\n",
       "    <tr>\n",
       "      <th>6 </th>\n",
       "      <td> 2005</td>\n",
       "      <td> False</td>\n",
       "      <td> 1.807692</td>\n",
       "      <td> 0</td>\n",
       "      <td> 1398.846154</td>\n",
       "      <td> 1.699854e+08</td>\n",
       "      <td> 216506.745824</td>\n",
       "    </tr>\n",
       "    <tr>\n",
       "      <th>7 </th>\n",
       "      <td> 2006</td>\n",
       "      <td> False</td>\n",
       "      <td> 1.580645</td>\n",
       "      <td> 0</td>\n",
       "      <td> 1589.419355</td>\n",
       "      <td> 1.115047e+08</td>\n",
       "      <td> 135497.873439</td>\n",
       "    </tr>\n",
       "    <tr>\n",
       "      <th>8 </th>\n",
       "      <td> 2007</td>\n",
       "      <td> False</td>\n",
       "      <td> 1.560000</td>\n",
       "      <td> 0</td>\n",
       "      <td> 1578.160000</td>\n",
       "      <td> 1.308372e+08</td>\n",
       "      <td>  68590.745889</td>\n",
       "    </tr>\n",
       "    <tr>\n",
       "      <th>9 </th>\n",
       "      <td> 2008</td>\n",
       "      <td> False</td>\n",
       "      <td> 1.695652</td>\n",
       "      <td> 0</td>\n",
       "      <td> 1491.347826</td>\n",
       "      <td> 1.283056e+08</td>\n",
       "      <td>  78388.931536</td>\n",
       "    </tr>\n",
       "    <tr>\n",
       "      <th>10</th>\n",
       "      <td> 2009</td>\n",
       "      <td> False</td>\n",
       "      <td> 1.880000</td>\n",
       "      <td> 0</td>\n",
       "      <td> 1510.320000</td>\n",
       "      <td> 1.510731e+08</td>\n",
       "      <td> 142992.948246</td>\n",
       "    </tr>\n",
       "    <tr>\n",
       "      <th>11</th>\n",
       "      <td> 2010</td>\n",
       "      <td> False</td>\n",
       "      <td> 1.766667</td>\n",
       "      <td> 0</td>\n",
       "      <td> 1356.600000</td>\n",
       "      <td> 1.425112e+08</td>\n",
       "      <td>  75727.958835</td>\n",
       "    </tr>\n",
       "    <tr>\n",
       "      <th>12</th>\n",
       "      <td> 2011</td>\n",
       "      <td> False</td>\n",
       "      <td> 1.785714</td>\n",
       "      <td> 0</td>\n",
       "      <td> 1900.500000</td>\n",
       "      <td> 2.302092e+08</td>\n",
       "      <td>  95760.291128</td>\n",
       "    </tr>\n",
       "    <tr>\n",
       "      <th>13</th>\n",
       "      <td> 2012</td>\n",
       "      <td> False</td>\n",
       "      <td> 1.407407</td>\n",
       "      <td> 0</td>\n",
       "      <td> 1612.925926</td>\n",
       "      <td> 1.990857e+08</td>\n",
       "      <td>  84871.786811</td>\n",
       "    </tr>\n",
       "    <tr>\n",
       "      <th>14</th>\n",
       "      <td> 2013</td>\n",
       "      <td> False</td>\n",
       "      <td> 2.172414</td>\n",
       "      <td> 0</td>\n",
       "      <td> 1905.620690</td>\n",
       "      <td> 2.175930e+08</td>\n",
       "      <td>  89826.876370</td>\n",
       "    </tr>\n",
       "  </tbody>\n",
       "</table>\n",
       "</div>"
      ],
      "text/plain": [
       "    year awarded  nominations  oscars     theaters    worldgross  \\\n",
       "0   1999   False     2.173913       0  1942.608696  1.898343e+08   \n",
       "1   2000   False     1.708333       0  1352.000000  1.064302e+08   \n",
       "2   2001   False     1.600000       0  1324.750000  1.425776e+08   \n",
       "3   2002   False     1.789474       0  2288.210526  2.257850e+08   \n",
       "4   2003   False     1.888889       0   888.333333  8.329537e+07   \n",
       "5   2004   False     1.625000       0  1738.958333  2.121923e+08   \n",
       "6   2005   False     1.807692       0  1398.846154  1.699854e+08   \n",
       "7   2006   False     1.580645       0  1589.419355  1.115047e+08   \n",
       "8   2007   False     1.560000       0  1578.160000  1.308372e+08   \n",
       "9   2008   False     1.695652       0  1491.347826  1.283056e+08   \n",
       "10  2009   False     1.880000       0  1510.320000  1.510731e+08   \n",
       "11  2010   False     1.766667       0  1356.600000  1.425112e+08   \n",
       "12  2011   False     1.785714       0  1900.500000  2.302092e+08   \n",
       "13  2012   False     1.407407       0  1612.925926  1.990857e+08   \n",
       "14  2013   False     2.172414       0  1905.620690  2.175930e+08   \n",
       "\n",
       "            gross  \n",
       "0    86217.521566  \n",
       "1    86466.918388  \n",
       "2    99941.254106  \n",
       "3   101727.132386  \n",
       "4    76069.459951  \n",
       "5   155407.777371  \n",
       "6   216506.745824  \n",
       "7   135497.873439  \n",
       "8    68590.745889  \n",
       "9    78388.931536  \n",
       "10  142992.948246  \n",
       "11   75727.958835  \n",
       "12   95760.291128  \n",
       "13   84871.786811  \n",
       "14   89826.876370  "
      ]
     },
     "execution_count": 16,
     "metadata": {},
     "output_type": "execute_result"
    }
   ],
   "source": [
    "mdmf = mdmf.reset_index()\n",
    "mdmf['year'] = years\n",
    "mdmf"
   ]
  },
  {
   "cell_type": "code",
   "execution_count": 17,
   "metadata": {
    "collapsed": false
   },
   "outputs": [
    {
     "name": "stderr",
     "output_type": "stream",
     "text": [
      "/usr/local/lib/python2.7/site-packages/scipy/stats/stats.py:1233: UserWarning: kurtosistest only valid for n>=20 ... continuing anyway, n=15\n",
      "  int(n))\n"
     ]
    },
    {
     "data": {
      "text/html": [
       "<table class=\"simpletable\">\n",
       "<caption>OLS Regression Results</caption>\n",
       "<tr>\n",
       "  <th>Dep. Variable:</th>          <td>gross</td>      <th>  R-squared:         </th> <td>   0.000</td> \n",
       "</tr>\n",
       "<tr>\n",
       "  <th>Model:</th>                   <td>OLS</td>       <th>  Adj. R-squared:    </th> <td>  -0.077</td> \n",
       "</tr>\n",
       "<tr>\n",
       "  <th>Method:</th>             <td>Least Squares</td>  <th>  F-statistic:       </th> <td>0.0002592</td>\n",
       "</tr>\n",
       "<tr>\n",
       "  <th>Date:</th>             <td>Fri, 24 Apr 2015</td> <th>  Prob (F-statistic):</th>  <td> 0.987</td>  \n",
       "</tr>\n",
       "<tr>\n",
       "  <th>Time:</th>                 <td>09:54:32</td>     <th>  Log-Likelihood:    </th> <td> -175.03</td> \n",
       "</tr>\n",
       "<tr>\n",
       "  <th>No. Observations:</th>      <td>    15</td>      <th>  AIC:               </th> <td>   354.1</td> \n",
       "</tr>\n",
       "<tr>\n",
       "  <th>Df Residuals:</th>          <td>    13</td>      <th>  BIC:               </th> <td>   355.5</td> \n",
       "</tr>\n",
       "<tr>\n",
       "  <th>Df Model:</th>              <td>     1</td>      <th>                     </th>     <td> </td>    \n",
       "</tr>\n",
       "<tr>\n",
       "  <th>Covariance Type:</th>      <td>nonrobust</td>    <th>                     </th>     <td> </td>    \n",
       "</tr>\n",
       "</table>\n",
       "<table class=\"simpletable\">\n",
       "<tr>\n",
       "      <td></td>         <th>coef</th>     <th>std err</th>      <th>t</th>      <th>P>|t|</th> <th>[95.0% Conf. Int.]</th> \n",
       "</tr>\n",
       "<tr>\n",
       "  <th>Intercept</th> <td> 1.804e+05</td> <td> 3.64e+06</td> <td>    0.050</td> <td> 0.961</td> <td>-7.69e+06  8.05e+06</td>\n",
       "</tr>\n",
       "<tr>\n",
       "  <th>year</th>      <td>  -29.2264</td> <td> 1815.283</td> <td>   -0.016</td> <td> 0.987</td> <td>-3950.906  3892.453</td>\n",
       "</tr>\n",
       "</table>\n",
       "<table class=\"simpletable\">\n",
       "<tr>\n",
       "  <th>Omnibus:</th>       <td> 3.313</td> <th>  Durbin-Watson:     </th> <td>   1.979</td>\n",
       "</tr>\n",
       "<tr>\n",
       "  <th>Prob(Omnibus):</th> <td> 0.191</td> <th>  Jarque-Bera (JB):  </th> <td>   1.286</td>\n",
       "</tr>\n",
       "<tr>\n",
       "  <th>Skew:</th>          <td>-0.249</td> <th>  Prob(JB):          </th> <td>   0.526</td>\n",
       "</tr>\n",
       "<tr>\n",
       "  <th>Kurtosis:</th>      <td> 1.655</td> <th>  Cond. No.          </th> <td>9.31e+05</td>\n",
       "</tr>\n",
       "</table>"
      ],
      "text/plain": [
       "<class 'statsmodels.iolib.summary.Summary'>\n",
       "\"\"\"\n",
       "                            OLS Regression Results                            \n",
       "==============================================================================\n",
       "Dep. Variable:                  gross   R-squared:                       0.000\n",
       "Model:                            OLS   Adj. R-squared:                 -0.077\n",
       "Method:                 Least Squares   F-statistic:                 0.0002592\n",
       "Date:                Fri, 24 Apr 2015   Prob (F-statistic):              0.987\n",
       "Time:                        09:54:32   Log-Likelihood:                -175.03\n",
       "No. Observations:                  15   AIC:                             354.1\n",
       "Df Residuals:                      13   BIC:                             355.5\n",
       "Df Model:                           1                                         \n",
       "Covariance Type:            nonrobust                                         \n",
       "==============================================================================\n",
       "                 coef    std err          t      P>|t|      [95.0% Conf. Int.]\n",
       "------------------------------------------------------------------------------\n",
       "Intercept   1.804e+05   3.64e+06      0.050      0.961     -7.69e+06  8.05e+06\n",
       "year         -29.2264   1815.283     -0.016      0.987     -3950.906  3892.453\n",
       "==============================================================================\n",
       "Omnibus:                        3.313   Durbin-Watson:                   1.979\n",
       "Prob(Omnibus):                  0.191   Jarque-Bera (JB):                1.286\n",
       "Skew:                          -0.249   Prob(JB):                        0.526\n",
       "Kurtosis:                       1.655   Cond. No.                     9.31e+05\n",
       "==============================================================================\n",
       "\n",
       "Warnings:\n",
       "[1] Standard Errors assume that the covariance matrix of the errors is correctly specified.\n",
       "[2] The condition number is large, 9.31e+05. This might indicate that there are\n",
       "strong multicollinearity or other numerical problems.\n",
       "\"\"\""
      ]
     },
     "execution_count": 17,
     "metadata": {},
     "output_type": "execute_result"
    }
   ],
   "source": [
    "mdmt_lm = smf.ols(\"gross ~ year\", mdmt).fit()\n",
    "mdmt_lm.summary()"
   ]
  },
  {
   "cell_type": "code",
   "execution_count": 18,
   "metadata": {
    "collapsed": false
   },
   "outputs": [
    {
     "data": {
      "text/html": [
       "<table class=\"simpletable\">\n",
       "<caption>OLS Regression Results</caption>\n",
       "<tr>\n",
       "  <th>Dep. Variable:</th>          <td>gross</td>      <th>  R-squared:         </th> <td>   0.007</td>\n",
       "</tr>\n",
       "<tr>\n",
       "  <th>Model:</th>                   <td>OLS</td>       <th>  Adj. R-squared:    </th> <td>  -0.069</td>\n",
       "</tr>\n",
       "<tr>\n",
       "  <th>Method:</th>             <td>Least Squares</td>  <th>  F-statistic:       </th> <td> 0.09196</td>\n",
       "</tr>\n",
       "<tr>\n",
       "  <th>Date:</th>             <td>Fri, 24 Apr 2015</td> <th>  Prob (F-statistic):</th>  <td> 0.766</td> \n",
       "</tr>\n",
       "<tr>\n",
       "  <th>Time:</th>                 <td>09:54:34</td>     <th>  Log-Likelihood:    </th> <td> -179.70</td>\n",
       "</tr>\n",
       "<tr>\n",
       "  <th>No. Observations:</th>      <td>    15</td>      <th>  AIC:               </th> <td>   363.4</td>\n",
       "</tr>\n",
       "<tr>\n",
       "  <th>Df Residuals:</th>          <td>    13</td>      <th>  BIC:               </th> <td>   364.8</td>\n",
       "</tr>\n",
       "<tr>\n",
       "  <th>Df Model:</th>              <td>     1</td>      <th>                     </th>     <td> </td>   \n",
       "</tr>\n",
       "<tr>\n",
       "  <th>Covariance Type:</th>      <td>nonrobust</td>    <th>                     </th>     <td> </td>   \n",
       "</tr>\n",
       "</table>\n",
       "<table class=\"simpletable\">\n",
       "<tr>\n",
       "      <td></td>         <th>coef</th>     <th>std err</th>      <th>t</th>      <th>P>|t|</th> <th>[95.0% Conf. Int.]</th> \n",
       "</tr>\n",
       "<tr>\n",
       "  <th>Intercept</th> <td> 1.614e+06</td> <td> 4.97e+06</td> <td>    0.325</td> <td> 0.751</td> <td>-9.12e+06  1.24e+07</td>\n",
       "</tr>\n",
       "<tr>\n",
       "  <th>year</th>      <td> -751.3930</td> <td> 2477.761</td> <td>   -0.303</td> <td> 0.766</td> <td>-6104.271  4601.485</td>\n",
       "</tr>\n",
       "</table>\n",
       "<table class=\"simpletable\">\n",
       "<tr>\n",
       "  <th>Omnibus:</th>       <td>11.777</td> <th>  Durbin-Watson:     </th> <td>   1.399</td>\n",
       "</tr>\n",
       "<tr>\n",
       "  <th>Prob(Omnibus):</th> <td> 0.003</td> <th>  Jarque-Bera (JB):  </th> <td>   7.884</td>\n",
       "</tr>\n",
       "<tr>\n",
       "  <th>Skew:</th>          <td> 1.557</td> <th>  Prob(JB):          </th> <td>  0.0194</td>\n",
       "</tr>\n",
       "<tr>\n",
       "  <th>Kurtosis:</th>      <td> 4.710</td> <th>  Cond. No.          </th> <td>9.31e+05</td>\n",
       "</tr>\n",
       "</table>"
      ],
      "text/plain": [
       "<class 'statsmodels.iolib.summary.Summary'>\n",
       "\"\"\"\n",
       "                            OLS Regression Results                            \n",
       "==============================================================================\n",
       "Dep. Variable:                  gross   R-squared:                       0.007\n",
       "Model:                            OLS   Adj. R-squared:                 -0.069\n",
       "Method:                 Least Squares   F-statistic:                   0.09196\n",
       "Date:                Fri, 24 Apr 2015   Prob (F-statistic):              0.766\n",
       "Time:                        09:54:34   Log-Likelihood:                -179.70\n",
       "No. Observations:                  15   AIC:                             363.4\n",
       "Df Residuals:                      13   BIC:                             364.8\n",
       "Df Model:                           1                                         \n",
       "Covariance Type:            nonrobust                                         \n",
       "==============================================================================\n",
       "                 coef    std err          t      P>|t|      [95.0% Conf. Int.]\n",
       "------------------------------------------------------------------------------\n",
       "Intercept   1.614e+06   4.97e+06      0.325      0.751     -9.12e+06  1.24e+07\n",
       "year        -751.3930   2477.761     -0.303      0.766     -6104.271  4601.485\n",
       "==============================================================================\n",
       "Omnibus:                       11.777   Durbin-Watson:                   1.399\n",
       "Prob(Omnibus):                  0.003   Jarque-Bera (JB):                7.884\n",
       "Skew:                           1.557   Prob(JB):                       0.0194\n",
       "Kurtosis:                       4.710   Cond. No.                     9.31e+05\n",
       "==============================================================================\n",
       "\n",
       "Warnings:\n",
       "[1] Standard Errors assume that the covariance matrix of the errors is correctly specified.\n",
       "[2] The condition number is large, 9.31e+05. This might indicate that there are\n",
       "strong multicollinearity or other numerical problems.\n",
       "\"\"\""
      ]
     },
     "execution_count": 18,
     "metadata": {},
     "output_type": "execute_result"
    }
   ],
   "source": [
    "mdmf_lm = smf.ols(\"gross ~ year\", mdmf).fit()\n",
    "mdmf_lm.summary()"
   ]
  },
  {
   "cell_type": "code",
   "execution_count": 19,
   "metadata": {
    "collapsed": false
   },
   "outputs": [
    {
     "data": {
      "text/html": [
       "<table class=\"simpletable\">\n",
       "<caption>OLS Regression Results</caption>\n",
       "<tr>\n",
       "  <th>Dep. Variable:</th>        <td>theaters</td>     <th>  R-squared:         </th> <td>   0.119</td>\n",
       "</tr>\n",
       "<tr>\n",
       "  <th>Model:</th>                   <td>OLS</td>       <th>  Adj. R-squared:    </th> <td>   0.108</td>\n",
       "</tr>\n",
       "<tr>\n",
       "  <th>Method:</th>             <td>Least Squares</td>  <th>  F-statistic:       </th> <td>   10.70</td>\n",
       "</tr>\n",
       "<tr>\n",
       "  <th>Date:</th>             <td>Fri, 24 Apr 2015</td> <th>  Prob (F-statistic):</th> <td>4.37e-05</td>\n",
       "</tr>\n",
       "<tr>\n",
       "  <th>Time:</th>                 <td>09:54:35</td>     <th>  Log-Likelihood:    </th> <td> -1381.4</td>\n",
       "</tr>\n",
       "<tr>\n",
       "  <th>No. Observations:</th>      <td>   162</td>      <th>  AIC:               </th> <td>   2769.</td>\n",
       "</tr>\n",
       "<tr>\n",
       "  <th>Df Residuals:</th>          <td>   159</td>      <th>  BIC:               </th> <td>   2778.</td>\n",
       "</tr>\n",
       "<tr>\n",
       "  <th>Df Model:</th>              <td>     2</td>      <th>                     </th>     <td> </td>   \n",
       "</tr>\n",
       "<tr>\n",
       "  <th>Covariance Type:</th>      <td>nonrobust</td>    <th>                     </th>     <td> </td>   \n",
       "</tr>\n",
       "</table>\n",
       "<table class=\"simpletable\">\n",
       "<tr>\n",
       "       <td></td>          <th>coef</th>     <th>std err</th>      <th>t</th>      <th>P>|t|</th> <th>[95.0% Conf. Int.]</th> \n",
       "</tr>\n",
       "<tr>\n",
       "  <th>Intercept</th>   <td> 1340.0346</td> <td>  174.001</td> <td>    7.701</td> <td> 0.000</td> <td>  996.383  1683.687</td>\n",
       "</tr>\n",
       "<tr>\n",
       "  <th>nominations</th> <td>  126.3165</td> <td>   41.212</td> <td>    3.065</td> <td> 0.003</td> <td>   44.922   207.711</td>\n",
       "</tr>\n",
       "<tr>\n",
       "  <th>oscars</th>      <td>   42.0636</td> <td>   86.514</td> <td>    0.486</td> <td> 0.627</td> <td> -128.800   212.928</td>\n",
       "</tr>\n",
       "</table>\n",
       "<table class=\"simpletable\">\n",
       "<tr>\n",
       "  <th>Omnibus:</th>       <td>42.326</td> <th>  Durbin-Watson:     </th> <td>   1.296</td>\n",
       "</tr>\n",
       "<tr>\n",
       "  <th>Prob(Omnibus):</th> <td> 0.000</td> <th>  Jarque-Bera (JB):  </th> <td>  12.303</td>\n",
       "</tr>\n",
       "<tr>\n",
       "  <th>Skew:</th>          <td> 0.404</td> <th>  Prob(JB):          </th> <td> 0.00213</td>\n",
       "</tr>\n",
       "<tr>\n",
       "  <th>Kurtosis:</th>      <td> 1.919</td> <th>  Cond. No.          </th> <td>    11.0</td>\n",
       "</tr>\n",
       "</table>"
      ],
      "text/plain": [
       "<class 'statsmodels.iolib.summary.Summary'>\n",
       "\"\"\"\n",
       "                            OLS Regression Results                            \n",
       "==============================================================================\n",
       "Dep. Variable:               theaters   R-squared:                       0.119\n",
       "Model:                            OLS   Adj. R-squared:                  0.108\n",
       "Method:                 Least Squares   F-statistic:                     10.70\n",
       "Date:                Fri, 24 Apr 2015   Prob (F-statistic):           4.37e-05\n",
       "Time:                        09:54:35   Log-Likelihood:                -1381.4\n",
       "No. Observations:                 162   AIC:                             2769.\n",
       "Df Residuals:                     159   BIC:                             2778.\n",
       "Df Model:                           2                                         \n",
       "Covariance Type:            nonrobust                                         \n",
       "===============================================================================\n",
       "                  coef    std err          t      P>|t|      [95.0% Conf. Int.]\n",
       "-------------------------------------------------------------------------------\n",
       "Intercept    1340.0346    174.001      7.701      0.000       996.383  1683.687\n",
       "nominations   126.3165     41.212      3.065      0.003        44.922   207.711\n",
       "oscars         42.0636     86.514      0.486      0.627      -128.800   212.928\n",
       "==============================================================================\n",
       "Omnibus:                       42.326   Durbin-Watson:                   1.296\n",
       "Prob(Omnibus):                  0.000   Jarque-Bera (JB):               12.303\n",
       "Skew:                           0.404   Prob(JB):                      0.00213\n",
       "Kurtosis:                       1.919   Cond. No.                         11.0\n",
       "==============================================================================\n",
       "\n",
       "Warnings:\n",
       "[1] Standard Errors assume that the covariance matrix of the errors is correctly specified.\n",
       "\"\"\""
      ]
     },
     "execution_count": 19,
     "metadata": {},
     "output_type": "execute_result"
    }
   ],
   "source": [
    "mdwth_lm = smf.ols(formula='theaters ~ nominations + oscars', data=mdw).fit()\n",
    "mdwth_lm.summary()"
   ]
  },
  {
   "cell_type": "code",
   "execution_count": 20,
   "metadata": {
    "collapsed": false
   },
   "outputs": [
    {
     "data": {
      "text/html": [
       "<table class=\"simpletable\">\n",
       "<caption>OLS Regression Results</caption>\n",
       "<tr>\n",
       "  <th>Dep. Variable:</th>        <td>theaters</td>     <th>  R-squared:         </th> <td>   0.000</td>\n",
       "</tr>\n",
       "<tr>\n",
       "  <th>Model:</th>                   <td>OLS</td>       <th>  Adj. R-squared:    </th> <td>   0.000</td>\n",
       "</tr>\n",
       "<tr>\n",
       "  <th>Method:</th>             <td>Least Squares</td>  <th>  F-statistic:       </th> <td>     nan</td>\n",
       "</tr>\n",
       "<tr>\n",
       "  <th>Date:</th>             <td>Fri, 24 Apr 2015</td> <th>  Prob (F-statistic):</th>  <td>   nan</td> \n",
       "</tr>\n",
       "<tr>\n",
       "  <th>Time:</th>                 <td>09:54:37</td>     <th>  Log-Likelihood:    </th> <td> -3316.8</td>\n",
       "</tr>\n",
       "<tr>\n",
       "  <th>No. Observations:</th>      <td>   381</td>      <th>  AIC:               </th> <td>   6636.</td>\n",
       "</tr>\n",
       "<tr>\n",
       "  <th>Df Residuals:</th>          <td>   380</td>      <th>  BIC:               </th> <td>   6639.</td>\n",
       "</tr>\n",
       "<tr>\n",
       "  <th>Df Model:</th>              <td>     0</td>      <th>                     </th>     <td> </td>   \n",
       "</tr>\n",
       "<tr>\n",
       "  <th>Covariance Type:</th>      <td>nonrobust</td>    <th>                     </th>     <td> </td>   \n",
       "</tr>\n",
       "</table>\n",
       "<table class=\"simpletable\">\n",
       "<tr>\n",
       "      <td></td>         <th>coef</th>     <th>std err</th>      <th>t</th>      <th>P>|t|</th> <th>[95.0% Conf. Int.]</th> \n",
       "</tr>\n",
       "<tr>\n",
       "  <th>Intercept</th> <td> 1581.8845</td> <td>   74.920</td> <td>   21.114</td> <td> 0.000</td> <td> 1434.574  1729.195</td>\n",
       "</tr>\n",
       "<tr>\n",
       "  <th>oscars</th>    <td>         0</td> <td>        0</td> <td>      nan</td> <td>   nan</td> <td>        0         0</td>\n",
       "</tr>\n",
       "</table>\n",
       "<table class=\"simpletable\">\n",
       "<tr>\n",
       "  <th>Omnibus:</th>       <td>9084.221</td> <th>  Durbin-Watson:     </th> <td>   0.449</td>\n",
       "</tr>\n",
       "<tr>\n",
       "  <th>Prob(Omnibus):</th>  <td> 0.000</td>  <th>  Jarque-Bera (JB):  </th> <td>  42.004</td>\n",
       "</tr>\n",
       "<tr>\n",
       "  <th>Skew:</th>           <td> 0.404</td>  <th>  Prob(JB):          </th> <td>7.57e-10</td>\n",
       "</tr>\n",
       "<tr>\n",
       "  <th>Kurtosis:</th>       <td> 1.589</td>  <th>  Cond. No.          </th> <td>     inf</td>\n",
       "</tr>\n",
       "</table>"
      ],
      "text/plain": [
       "<class 'statsmodels.iolib.summary.Summary'>\n",
       "\"\"\"\n",
       "                            OLS Regression Results                            \n",
       "==============================================================================\n",
       "Dep. Variable:               theaters   R-squared:                       0.000\n",
       "Model:                            OLS   Adj. R-squared:                  0.000\n",
       "Method:                 Least Squares   F-statistic:                       nan\n",
       "Date:                Fri, 24 Apr 2015   Prob (F-statistic):                nan\n",
       "Time:                        09:54:37   Log-Likelihood:                -3316.8\n",
       "No. Observations:                 381   AIC:                             6636.\n",
       "Df Residuals:                     380   BIC:                             6639.\n",
       "Df Model:                           0                                         \n",
       "Covariance Type:            nonrobust                                         \n",
       "==============================================================================\n",
       "                 coef    std err          t      P>|t|      [95.0% Conf. Int.]\n",
       "------------------------------------------------------------------------------\n",
       "Intercept   1581.8845     74.920     21.114      0.000      1434.574  1729.195\n",
       "oscars              0          0        nan        nan             0         0\n",
       "==============================================================================\n",
       "Omnibus:                     9084.221   Durbin-Watson:                   0.449\n",
       "Prob(Omnibus):                  0.000   Jarque-Bera (JB):               42.004\n",
       "Skew:                           0.404   Prob(JB):                     7.57e-10\n",
       "Kurtosis:                       1.589   Cond. No.                          inf\n",
       "==============================================================================\n",
       "\n",
       "Warnings:\n",
       "[1] Standard Errors assume that the covariance matrix of the errors is correctly specified.\n",
       "[2] The smallest eigenvalue is      0. This might indicate that there are\n",
       "strong multicollinearity problems or that the design matrix is singular.\n",
       "\"\"\""
      ]
     },
     "execution_count": 20,
     "metadata": {},
     "output_type": "execute_result"
    }
   ],
   "source": [
    "mdnwth_lm = smf.ols(formula='theaters ~ oscars', data=mdnw).fit()\n",
    "mdnwth_lm.summary()"
   ]
  },
  {
   "cell_type": "code",
   "execution_count": 21,
   "metadata": {
    "collapsed": false
   },
   "outputs": [
    {
     "data": {
      "text/html": [
       "<table class=\"simpletable\">\n",
       "<caption>OLS Regression Results</caption>\n",
       "<tr>\n",
       "  <th>Dep. Variable:</th>         <td>oscars</td>      <th>  R-squared:         </th> <td>   0.502</td>\n",
       "</tr>\n",
       "<tr>\n",
       "  <th>Model:</th>                   <td>OLS</td>       <th>  Adj. R-squared:    </th> <td>   0.501</td>\n",
       "</tr>\n",
       "<tr>\n",
       "  <th>Method:</th>             <td>Least Squares</td>  <th>  F-statistic:       </th> <td>   546.0</td>\n",
       "</tr>\n",
       "<tr>\n",
       "  <th>Date:</th>             <td>Fri, 24 Apr 2015</td> <th>  Prob (F-statistic):</th> <td>5.15e-84</td>\n",
       "</tr>\n",
       "<tr>\n",
       "  <th>Time:</th>                 <td>09:54:39</td>     <th>  Log-Likelihood:    </th> <td> -677.21</td>\n",
       "</tr>\n",
       "<tr>\n",
       "  <th>No. Observations:</th>      <td>   543</td>      <th>  AIC:               </th> <td>   1358.</td>\n",
       "</tr>\n",
       "<tr>\n",
       "  <th>Df Residuals:</th>          <td>   541</td>      <th>  BIC:               </th> <td>   1367.</td>\n",
       "</tr>\n",
       "<tr>\n",
       "  <th>Df Model:</th>              <td>     1</td>      <th>                     </th>     <td> </td>   \n",
       "</tr>\n",
       "<tr>\n",
       "  <th>Covariance Type:</th>      <td>nonrobust</td>    <th>                     </th>     <td> </td>   \n",
       "</tr>\n",
       "</table>\n",
       "<table class=\"simpletable\">\n",
       "<tr>\n",
       "       <td></td>          <th>coef</th>     <th>std err</th>      <th>t</th>      <th>P>|t|</th> <th>[95.0% Conf. Int.]</th> \n",
       "</tr>\n",
       "<tr>\n",
       "  <th>Intercept</th>   <td>   -0.3328</td> <td>    0.053</td> <td>   -6.323</td> <td> 0.000</td> <td>   -0.436    -0.229</td>\n",
       "</tr>\n",
       "<tr>\n",
       "  <th>nominations</th> <td>    0.3411</td> <td>    0.015</td> <td>   23.367</td> <td> 0.000</td> <td>    0.312     0.370</td>\n",
       "</tr>\n",
       "</table>\n",
       "<table class=\"simpletable\">\n",
       "<tr>\n",
       "  <th>Omnibus:</th>       <td>302.005</td> <th>  Durbin-Watson:     </th> <td>   2.076</td>\n",
       "</tr>\n",
       "<tr>\n",
       "  <th>Prob(Omnibus):</th> <td> 0.000</td>  <th>  Jarque-Bera (JB):  </th> <td>6014.642</td>\n",
       "</tr>\n",
       "<tr>\n",
       "  <th>Skew:</th>          <td> 1.995</td>  <th>  Prob(JB):          </th> <td>    0.00</td>\n",
       "</tr>\n",
       "<tr>\n",
       "  <th>Kurtosis:</th>      <td>18.809</td>  <th>  Cond. No.          </th> <td>    5.46</td>\n",
       "</tr>\n",
       "</table>"
      ],
      "text/plain": [
       "<class 'statsmodels.iolib.summary.Summary'>\n",
       "\"\"\"\n",
       "                            OLS Regression Results                            \n",
       "==============================================================================\n",
       "Dep. Variable:                 oscars   R-squared:                       0.502\n",
       "Model:                            OLS   Adj. R-squared:                  0.501\n",
       "Method:                 Least Squares   F-statistic:                     546.0\n",
       "Date:                Fri, 24 Apr 2015   Prob (F-statistic):           5.15e-84\n",
       "Time:                        09:54:39   Log-Likelihood:                -677.21\n",
       "No. Observations:                 543   AIC:                             1358.\n",
       "Df Residuals:                     541   BIC:                             1367.\n",
       "Df Model:                           1                                         \n",
       "Covariance Type:            nonrobust                                         \n",
       "===============================================================================\n",
       "                  coef    std err          t      P>|t|      [95.0% Conf. Int.]\n",
       "-------------------------------------------------------------------------------\n",
       "Intercept      -0.3328      0.053     -6.323      0.000        -0.436    -0.229\n",
       "nominations     0.3411      0.015     23.367      0.000         0.312     0.370\n",
       "==============================================================================\n",
       "Omnibus:                      302.005   Durbin-Watson:                   2.076\n",
       "Prob(Omnibus):                  0.000   Jarque-Bera (JB):             6014.642\n",
       "Skew:                           1.995   Prob(JB):                         0.00\n",
       "Kurtosis:                      18.809   Cond. No.                         5.46\n",
       "==============================================================================\n",
       "\n",
       "Warnings:\n",
       "[1] Standard Errors assume that the covariance matrix of the errors is correctly specified.\n",
       "\"\"\""
      ]
     },
     "execution_count": 21,
     "metadata": {},
     "output_type": "execute_result"
    }
   ],
   "source": [
    "mdth_lm = smf.ols(formula='oscars ~ nominations', data=md).fit()\n",
    "mdth_lm.summary()"
   ]
  },
  {
   "cell_type": "code",
   "execution_count": 22,
   "metadata": {
    "collapsed": false
   },
   "outputs": [
    {
     "name": "stderr",
     "output_type": "stream",
     "text": [
      "/usr/local/lib/python2.7/site-packages/scipy/stats/stats.py:1233: UserWarning: kurtosistest only valid for n>=20 ... continuing anyway, n=13\n",
      "  int(n))\n"
     ]
    },
    {
     "data": {
      "text/html": [
       "<table class=\"simpletable\">\n",
       "<caption>OLS Regression Results</caption>\n",
       "<tr>\n",
       "  <th>Dep. Variable:</th>          <td>gross</td>      <th>  R-squared:         </th> <td>   0.243</td>\n",
       "</tr>\n",
       "<tr>\n",
       "  <th>Model:</th>                   <td>OLS</td>       <th>  Adj. R-squared:    </th> <td>   0.091</td>\n",
       "</tr>\n",
       "<tr>\n",
       "  <th>Method:</th>             <td>Least Squares</td>  <th>  F-statistic:       </th> <td>   1.602</td>\n",
       "</tr>\n",
       "<tr>\n",
       "  <th>Date:</th>             <td>Fri, 24 Apr 2015</td> <th>  Prob (F-statistic):</th>  <td> 0.249</td> \n",
       "</tr>\n",
       "<tr>\n",
       "  <th>Time:</th>                 <td>09:54:41</td>     <th>  Log-Likelihood:    </th> <td> -157.53</td>\n",
       "</tr>\n",
       "<tr>\n",
       "  <th>No. Observations:</th>      <td>    13</td>      <th>  AIC:               </th> <td>   321.1</td>\n",
       "</tr>\n",
       "<tr>\n",
       "  <th>Df Residuals:</th>          <td>    10</td>      <th>  BIC:               </th> <td>   322.7</td>\n",
       "</tr>\n",
       "<tr>\n",
       "  <th>Df Model:</th>              <td>     2</td>      <th>                     </th>     <td> </td>   \n",
       "</tr>\n",
       "<tr>\n",
       "  <th>Covariance Type:</th>      <td>nonrobust</td>    <th>                     </th>     <td> </td>   \n",
       "</tr>\n",
       "</table>\n",
       "<table class=\"simpletable\">\n",
       "<tr>\n",
       "       <td></td>          <th>coef</th>     <th>std err</th>      <th>t</th>      <th>P>|t|</th> <th>[95.0% Conf. Int.]</th> \n",
       "</tr>\n",
       "<tr>\n",
       "  <th>Intercept</th>   <td>  1.09e+05</td> <td> 3.33e+04</td> <td>    3.272</td> <td> 0.008</td> <td> 3.48e+04  1.83e+05</td>\n",
       "</tr>\n",
       "<tr>\n",
       "  <th>nominations</th> <td>-3323.9478</td> <td> 8909.409</td> <td>   -0.373</td> <td> 0.717</td> <td>-2.32e+04  1.65e+04</td>\n",
       "</tr>\n",
       "<tr>\n",
       "  <th>oscars</th>      <td> 2.006e+04</td> <td> 1.87e+04</td> <td>    1.074</td> <td> 0.308</td> <td>-2.16e+04  6.17e+04</td>\n",
       "</tr>\n",
       "</table>\n",
       "<table class=\"simpletable\">\n",
       "<tr>\n",
       "  <th>Omnibus:</th>       <td>22.711</td> <th>  Durbin-Watson:     </th> <td>   2.379</td>\n",
       "</tr>\n",
       "<tr>\n",
       "  <th>Prob(Omnibus):</th> <td> 0.000</td> <th>  Jarque-Bera (JB):  </th> <td>  21.965</td>\n",
       "</tr>\n",
       "<tr>\n",
       "  <th>Skew:</th>          <td> 2.205</td> <th>  Prob(JB):          </th> <td>1.70e-05</td>\n",
       "</tr>\n",
       "<tr>\n",
       "  <th>Kurtosis:</th>      <td> 7.594</td> <th>  Cond. No.          </th> <td>    21.4</td>\n",
       "</tr>\n",
       "</table>"
      ],
      "text/plain": [
       "<class 'statsmodels.iolib.summary.Summary'>\n",
       "\"\"\"\n",
       "                            OLS Regression Results                            \n",
       "==============================================================================\n",
       "Dep. Variable:                  gross   R-squared:                       0.243\n",
       "Model:                            OLS   Adj. R-squared:                  0.091\n",
       "Method:                 Least Squares   F-statistic:                     1.602\n",
       "Date:                Fri, 24 Apr 2015   Prob (F-statistic):              0.249\n",
       "Time:                        09:54:41   Log-Likelihood:                -157.53\n",
       "No. Observations:                  13   AIC:                             321.1\n",
       "Df Residuals:                      10   BIC:                             322.7\n",
       "Df Model:                           2                                         \n",
       "Covariance Type:            nonrobust                                         \n",
       "===============================================================================\n",
       "                  coef    std err          t      P>|t|      [95.0% Conf. Int.]\n",
       "-------------------------------------------------------------------------------\n",
       "Intercept     1.09e+05   3.33e+04      3.272      0.008      3.48e+04  1.83e+05\n",
       "nominations -3323.9478   8909.409     -0.373      0.717     -2.32e+04  1.65e+04\n",
       "oscars       2.006e+04   1.87e+04      1.074      0.308     -2.16e+04  6.17e+04\n",
       "==============================================================================\n",
       "Omnibus:                       22.711   Durbin-Watson:                   2.379\n",
       "Prob(Omnibus):                  0.000   Jarque-Bera (JB):               21.965\n",
       "Skew:                           2.205   Prob(JB):                     1.70e-05\n",
       "Kurtosis:                       7.594   Cond. No.                         21.4\n",
       "==============================================================================\n",
       "\n",
       "Warnings:\n",
       "[1] Standard Errors assume that the covariance matrix of the errors is correctly specified.\n",
       "\"\"\""
      ]
     },
     "execution_count": 22,
     "metadata": {},
     "output_type": "execute_result"
    }
   ],
   "source": [
    "nomoscgross_lm = smf.ols(formula='gross ~ nominations + oscars', data=mdnom).fit()\n",
    "nomoscgross_lm.summary()"
   ]
  },
  {
   "cell_type": "code",
   "execution_count": 23,
   "metadata": {
    "collapsed": false
   },
   "outputs": [
    {
     "data": {
      "text/html": [
       "<table class=\"simpletable\">\n",
       "<caption>OLS Regression Results</caption>\n",
       "<tr>\n",
       "  <th>Dep. Variable:</th>        <td>theaters</td>     <th>  R-squared:         </th> <td>   0.639</td>\n",
       "</tr>\n",
       "<tr>\n",
       "  <th>Model:</th>                   <td>OLS</td>       <th>  Adj. R-squared:    </th> <td>   0.567</td>\n",
       "</tr>\n",
       "<tr>\n",
       "  <th>Method:</th>             <td>Least Squares</td>  <th>  F-statistic:       </th> <td>   8.854</td>\n",
       "</tr>\n",
       "<tr>\n",
       "  <th>Date:</th>             <td>Fri, 24 Apr 2015</td> <th>  Prob (F-statistic):</th>  <td>0.00612</td>\n",
       "</tr>\n",
       "<tr>\n",
       "  <th>Time:</th>                 <td>09:54:45</td>     <th>  Log-Likelihood:    </th> <td> -92.674</td>\n",
       "</tr>\n",
       "<tr>\n",
       "  <th>No. Observations:</th>      <td>    13</td>      <th>  AIC:               </th> <td>   191.3</td>\n",
       "</tr>\n",
       "<tr>\n",
       "  <th>Df Residuals:</th>          <td>    10</td>      <th>  BIC:               </th> <td>   193.0</td>\n",
       "</tr>\n",
       "<tr>\n",
       "  <th>Df Model:</th>              <td>     2</td>      <th>                     </th>     <td> </td>   \n",
       "</tr>\n",
       "<tr>\n",
       "  <th>Covariance Type:</th>      <td>nonrobust</td>    <th>                     </th>     <td> </td>   \n",
       "</tr>\n",
       "</table>\n",
       "<table class=\"simpletable\">\n",
       "<tr>\n",
       "       <td></td>          <th>coef</th>     <th>std err</th>      <th>t</th>      <th>P>|t|</th> <th>[95.0% Conf. Int.]</th> \n",
       "</tr>\n",
       "<tr>\n",
       "  <th>Intercept</th>   <td> 1550.1488</td> <td>  227.010</td> <td>    6.829</td> <td> 0.000</td> <td> 1044.338  2055.960</td>\n",
       "</tr>\n",
       "<tr>\n",
       "  <th>nominations</th> <td>   76.7590</td> <td>   60.718</td> <td>    1.264</td> <td> 0.235</td> <td>  -58.529   212.047</td>\n",
       "</tr>\n",
       "<tr>\n",
       "  <th>oscars</th>      <td>   68.6019</td> <td>  127.277</td> <td>    0.539</td> <td> 0.602</td> <td> -214.988   352.192</td>\n",
       "</tr>\n",
       "</table>\n",
       "<table class=\"simpletable\">\n",
       "<tr>\n",
       "  <th>Omnibus:</th>       <td>11.894</td> <th>  Durbin-Watson:     </th> <td>   2.639</td>\n",
       "</tr>\n",
       "<tr>\n",
       "  <th>Prob(Omnibus):</th> <td> 0.003</td> <th>  Jarque-Bera (JB):  </th> <td>   7.156</td>\n",
       "</tr>\n",
       "<tr>\n",
       "  <th>Skew:</th>          <td>-1.518</td> <th>  Prob(JB):          </th> <td>  0.0279</td>\n",
       "</tr>\n",
       "<tr>\n",
       "  <th>Kurtosis:</th>      <td> 4.998</td> <th>  Cond. No.          </th> <td>    21.4</td>\n",
       "</tr>\n",
       "</table>"
      ],
      "text/plain": [
       "<class 'statsmodels.iolib.summary.Summary'>\n",
       "\"\"\"\n",
       "                            OLS Regression Results                            \n",
       "==============================================================================\n",
       "Dep. Variable:               theaters   R-squared:                       0.639\n",
       "Model:                            OLS   Adj. R-squared:                  0.567\n",
       "Method:                 Least Squares   F-statistic:                     8.854\n",
       "Date:                Fri, 24 Apr 2015   Prob (F-statistic):            0.00612\n",
       "Time:                        09:54:45   Log-Likelihood:                -92.674\n",
       "No. Observations:                  13   AIC:                             191.3\n",
       "Df Residuals:                      10   BIC:                             193.0\n",
       "Df Model:                           2                                         \n",
       "Covariance Type:            nonrobust                                         \n",
       "===============================================================================\n",
       "                  coef    std err          t      P>|t|      [95.0% Conf. Int.]\n",
       "-------------------------------------------------------------------------------\n",
       "Intercept    1550.1488    227.010      6.829      0.000      1044.338  2055.960\n",
       "nominations    76.7590     60.718      1.264      0.235       -58.529   212.047\n",
       "oscars         68.6019    127.277      0.539      0.602      -214.988   352.192\n",
       "==============================================================================\n",
       "Omnibus:                       11.894   Durbin-Watson:                   2.639\n",
       "Prob(Omnibus):                  0.003   Jarque-Bera (JB):                7.156\n",
       "Skew:                          -1.518   Prob(JB):                       0.0279\n",
       "Kurtosis:                       4.998   Cond. No.                         21.4\n",
       "==============================================================================\n",
       "\n",
       "Warnings:\n",
       "[1] Standard Errors assume that the covariance matrix of the errors is correctly specified.\n",
       "\"\"\""
      ]
     },
     "execution_count": 23,
     "metadata": {},
     "output_type": "execute_result"
    }
   ],
   "source": [
    "nomosctheat_lm = smf.ols(formula='theaters ~ nominations + oscars', data=mdnom).fit()\n",
    "nomosctheat_lm.summary()"
   ]
  },
  {
   "cell_type": "code",
   "execution_count": 24,
   "metadata": {
    "collapsed": false
   },
   "outputs": [
    {
     "data": {
      "text/html": [
       "<table class=\"simpletable\">\n",
       "<caption>OLS Regression Results</caption>\n",
       "<tr>\n",
       "  <th>Dep. Variable:</th>          <td>gross</td>      <th>  R-squared:         </th> <td>   0.155</td>\n",
       "</tr>\n",
       "<tr>\n",
       "  <th>Model:</th>                   <td>OLS</td>       <th>  Adj. R-squared:    </th> <td>   0.079</td>\n",
       "</tr>\n",
       "<tr>\n",
       "  <th>Method:</th>             <td>Least Squares</td>  <th>  F-statistic:       </th> <td>   2.023</td>\n",
       "</tr>\n",
       "<tr>\n",
       "  <th>Date:</th>             <td>Fri, 24 Apr 2015</td> <th>  Prob (F-statistic):</th>  <td> 0.183</td> \n",
       "</tr>\n",
       "<tr>\n",
       "  <th>Time:</th>                 <td>09:54:49</td>     <th>  Log-Likelihood:    </th> <td> -158.24</td>\n",
       "</tr>\n",
       "<tr>\n",
       "  <th>No. Observations:</th>      <td>    13</td>      <th>  AIC:               </th> <td>   320.5</td>\n",
       "</tr>\n",
       "<tr>\n",
       "  <th>Df Residuals:</th>          <td>    11</td>      <th>  BIC:               </th> <td>   321.6</td>\n",
       "</tr>\n",
       "<tr>\n",
       "  <th>Df Model:</th>              <td>     1</td>      <th>                     </th>     <td> </td>   \n",
       "</tr>\n",
       "<tr>\n",
       "  <th>Covariance Type:</th>      <td>nonrobust</td>    <th>                     </th>     <td> </td>   \n",
       "</tr>\n",
       "</table>\n",
       "<table class=\"simpletable\">\n",
       "<tr>\n",
       "       <td></td>          <th>coef</th>     <th>std err</th>      <th>t</th>      <th>P>|t|</th> <th>[95.0% Conf. Int.]</th> \n",
       "</tr>\n",
       "<tr>\n",
       "  <th>Intercept</th>   <td>  9.28e+04</td> <td> 2.99e+04</td> <td>    3.102</td> <td> 0.010</td> <td>  2.7e+04  1.59e+05</td>\n",
       "</tr>\n",
       "<tr>\n",
       "  <th>nominations</th> <td> 5360.5927</td> <td> 3768.984</td> <td>    1.422</td> <td> 0.183</td> <td>-2934.886  1.37e+04</td>\n",
       "</tr>\n",
       "</table>\n",
       "<table class=\"simpletable\">\n",
       "<tr>\n",
       "  <th>Omnibus:</th>       <td>18.881</td> <th>  Durbin-Watson:     </th> <td>   2.427</td>\n",
       "</tr>\n",
       "<tr>\n",
       "  <th>Prob(Omnibus):</th> <td> 0.000</td> <th>  Jarque-Bera (JB):  </th> <td>  15.829</td>\n",
       "</tr>\n",
       "<tr>\n",
       "  <th>Skew:</th>          <td> 1.913</td> <th>  Prob(JB):          </th> <td>0.000365</td>\n",
       "</tr>\n",
       "<tr>\n",
       "  <th>Kurtosis:</th>      <td> 6.819</td> <th>  Cond. No.          </th> <td>    17.0</td>\n",
       "</tr>\n",
       "</table>"
      ],
      "text/plain": [
       "<class 'statsmodels.iolib.summary.Summary'>\n",
       "\"\"\"\n",
       "                            OLS Regression Results                            \n",
       "==============================================================================\n",
       "Dep. Variable:                  gross   R-squared:                       0.155\n",
       "Model:                            OLS   Adj. R-squared:                  0.079\n",
       "Method:                 Least Squares   F-statistic:                     2.023\n",
       "Date:                Fri, 24 Apr 2015   Prob (F-statistic):              0.183\n",
       "Time:                        09:54:49   Log-Likelihood:                -158.24\n",
       "No. Observations:                  13   AIC:                             320.5\n",
       "Df Residuals:                      11   BIC:                             321.6\n",
       "Df Model:                           1                                         \n",
       "Covariance Type:            nonrobust                                         \n",
       "===============================================================================\n",
       "                  coef    std err          t      P>|t|      [95.0% Conf. Int.]\n",
       "-------------------------------------------------------------------------------\n",
       "Intercept     9.28e+04   2.99e+04      3.102      0.010       2.7e+04  1.59e+05\n",
       "nominations  5360.5927   3768.984      1.422      0.183     -2934.886  1.37e+04\n",
       "==============================================================================\n",
       "Omnibus:                       18.881   Durbin-Watson:                   2.427\n",
       "Prob(Omnibus):                  0.000   Jarque-Bera (JB):               15.829\n",
       "Skew:                           1.913   Prob(JB):                     0.000365\n",
       "Kurtosis:                       6.819   Cond. No.                         17.0\n",
       "==============================================================================\n",
       "\n",
       "Warnings:\n",
       "[1] Standard Errors assume that the covariance matrix of the errors is correctly specified.\n",
       "\"\"\""
      ]
     },
     "execution_count": 24,
     "metadata": {},
     "output_type": "execute_result"
    }
   ],
   "source": [
    "nomgross_lm = smf.ols(formula='gross ~ nominations', data=mdnom).fit()\n",
    "nomgross_lm.summary()"
   ]
  },
  {
   "cell_type": "code",
   "execution_count": 25,
   "metadata": {
    "collapsed": false
   },
   "outputs": [
    {
     "data": {
      "text/html": [
       "<table class=\"simpletable\">\n",
       "<caption>OLS Regression Results</caption>\n",
       "<tr>\n",
       "  <th>Dep. Variable:</th>        <td>theaters</td>     <th>  R-squared:         </th> <td>   0.629</td>\n",
       "</tr>\n",
       "<tr>\n",
       "  <th>Model:</th>                   <td>OLS</td>       <th>  Adj. R-squared:    </th> <td>   0.595</td>\n",
       "</tr>\n",
       "<tr>\n",
       "  <th>Method:</th>             <td>Least Squares</td>  <th>  F-statistic:       </th> <td>   18.62</td>\n",
       "</tr>\n",
       "<tr>\n",
       "  <th>Date:</th>             <td>Fri, 24 Apr 2015</td> <th>  Prob (F-statistic):</th>  <td>0.00122</td>\n",
       "</tr>\n",
       "<tr>\n",
       "  <th>Time:</th>                 <td>09:54:52</td>     <th>  Log-Likelihood:    </th> <td> -92.860</td>\n",
       "</tr>\n",
       "<tr>\n",
       "  <th>No. Observations:</th>      <td>    13</td>      <th>  AIC:               </th> <td>   189.7</td>\n",
       "</tr>\n",
       "<tr>\n",
       "  <th>Df Residuals:</th>          <td>    11</td>      <th>  BIC:               </th> <td>   190.8</td>\n",
       "</tr>\n",
       "<tr>\n",
       "  <th>Df Model:</th>              <td>     1</td>      <th>                     </th>     <td> </td>   \n",
       "</tr>\n",
       "<tr>\n",
       "  <th>Covariance Type:</th>      <td>nonrobust</td>    <th>                     </th>     <td> </td>   \n",
       "</tr>\n",
       "</table>\n",
       "<table class=\"simpletable\">\n",
       "<tr>\n",
       "       <td></td>          <th>coef</th>     <th>std err</th>      <th>t</th>      <th>P>|t|</th> <th>[95.0% Conf. Int.]</th> \n",
       "</tr>\n",
       "<tr>\n",
       "  <th>Intercept</th>   <td> 1494.8067</td> <td>  195.825</td> <td>    7.633</td> <td> 0.000</td> <td> 1063.798  1925.815</td>\n",
       "</tr>\n",
       "<tr>\n",
       "  <th>nominations</th> <td>  106.4577</td> <td>   24.672</td> <td>    4.315</td> <td> 0.001</td> <td>   52.156   160.760</td>\n",
       "</tr>\n",
       "</table>\n",
       "<table class=\"simpletable\">\n",
       "<tr>\n",
       "  <th>Omnibus:</th>       <td> 9.780</td> <th>  Durbin-Watson:     </th> <td>   2.622</td>\n",
       "</tr>\n",
       "<tr>\n",
       "  <th>Prob(Omnibus):</th> <td> 0.008</td> <th>  Jarque-Bera (JB):  </th> <td>   5.392</td>\n",
       "</tr>\n",
       "<tr>\n",
       "  <th>Skew:</th>          <td>-1.383</td> <th>  Prob(JB):          </th> <td>  0.0675</td>\n",
       "</tr>\n",
       "<tr>\n",
       "  <th>Kurtosis:</th>      <td> 4.517</td> <th>  Cond. No.          </th> <td>    17.0</td>\n",
       "</tr>\n",
       "</table>"
      ],
      "text/plain": [
       "<class 'statsmodels.iolib.summary.Summary'>\n",
       "\"\"\"\n",
       "                            OLS Regression Results                            \n",
       "==============================================================================\n",
       "Dep. Variable:               theaters   R-squared:                       0.629\n",
       "Model:                            OLS   Adj. R-squared:                  0.595\n",
       "Method:                 Least Squares   F-statistic:                     18.62\n",
       "Date:                Fri, 24 Apr 2015   Prob (F-statistic):            0.00122\n",
       "Time:                        09:54:52   Log-Likelihood:                -92.860\n",
       "No. Observations:                  13   AIC:                             189.7\n",
       "Df Residuals:                      11   BIC:                             190.8\n",
       "Df Model:                           1                                         \n",
       "Covariance Type:            nonrobust                                         \n",
       "===============================================================================\n",
       "                  coef    std err          t      P>|t|      [95.0% Conf. Int.]\n",
       "-------------------------------------------------------------------------------\n",
       "Intercept    1494.8067    195.825      7.633      0.000      1063.798  1925.815\n",
       "nominations   106.4577     24.672      4.315      0.001        52.156   160.760\n",
       "==============================================================================\n",
       "Omnibus:                        9.780   Durbin-Watson:                   2.622\n",
       "Prob(Omnibus):                  0.008   Jarque-Bera (JB):                5.392\n",
       "Skew:                          -1.383   Prob(JB):                       0.0675\n",
       "Kurtosis:                       4.517   Cond. No.                         17.0\n",
       "==============================================================================\n",
       "\n",
       "Warnings:\n",
       "[1] Standard Errors assume that the covariance matrix of the errors is correctly specified.\n",
       "\"\"\""
      ]
     },
     "execution_count": 25,
     "metadata": {},
     "output_type": "execute_result"
    }
   ],
   "source": [
    "nomtheat_lm = smf.ols(formula='theaters ~ nominations', data=mdnom).fit()\n",
    "nomtheat_lm.summary()"
   ]
  },
  {
   "cell_type": "code",
   "execution_count": 26,
   "metadata": {
    "collapsed": false
   },
   "outputs": [
    {
     "name": "stderr",
     "output_type": "stream",
     "text": [
      "/usr/local/lib/python2.7/site-packages/scipy/stats/stats.py:1233: UserWarning: kurtosistest only valid for n>=20 ... continuing anyway, n=10\n",
      "  int(n))\n"
     ]
    },
    {
     "data": {
      "text/html": [
       "<table class=\"simpletable\">\n",
       "<caption>OLS Regression Results</caption>\n",
       "<tr>\n",
       "  <th>Dep. Variable:</th>          <td>gross</td>      <th>  R-squared:         </th> <td>   0.494</td>\n",
       "</tr>\n",
       "<tr>\n",
       "  <th>Model:</th>                   <td>OLS</td>       <th>  Adj. R-squared:    </th> <td>   0.431</td>\n",
       "</tr>\n",
       "<tr>\n",
       "  <th>Method:</th>             <td>Least Squares</td>  <th>  F-statistic:       </th> <td>   7.818</td>\n",
       "</tr>\n",
       "<tr>\n",
       "  <th>Date:</th>             <td>Fri, 24 Apr 2015</td> <th>  Prob (F-statistic):</th>  <td>0.0233</td> \n",
       "</tr>\n",
       "<tr>\n",
       "  <th>Time:</th>                 <td>09:54:58</td>     <th>  Log-Likelihood:    </th> <td> -120.34</td>\n",
       "</tr>\n",
       "<tr>\n",
       "  <th>No. Observations:</th>      <td>    10</td>      <th>  AIC:               </th> <td>   244.7</td>\n",
       "</tr>\n",
       "<tr>\n",
       "  <th>Df Residuals:</th>          <td>     8</td>      <th>  BIC:               </th> <td>   245.3</td>\n",
       "</tr>\n",
       "<tr>\n",
       "  <th>Df Model:</th>              <td>     1</td>      <th>                     </th>     <td> </td>   \n",
       "</tr>\n",
       "<tr>\n",
       "  <th>Covariance Type:</th>      <td>nonrobust</td>    <th>                     </th>     <td> </td>   \n",
       "</tr>\n",
       "</table>\n",
       "<table class=\"simpletable\">\n",
       "<tr>\n",
       "      <td></td>         <th>coef</th>     <th>std err</th>      <th>t</th>      <th>P>|t|</th> <th>[95.0% Conf. Int.]</th> \n",
       "</tr>\n",
       "<tr>\n",
       "  <th>Intercept</th> <td> 8.961e+04</td> <td> 2.55e+04</td> <td>    3.519</td> <td> 0.008</td> <td> 3.09e+04  1.48e+05</td>\n",
       "</tr>\n",
       "<tr>\n",
       "  <th>oscars</th>    <td> 1.249e+04</td> <td> 4466.346</td> <td>    2.796</td> <td> 0.023</td> <td> 2189.195  2.28e+04</td>\n",
       "</tr>\n",
       "</table>\n",
       "<table class=\"simpletable\">\n",
       "<tr>\n",
       "  <th>Omnibus:</th>       <td> 0.034</td> <th>  Durbin-Watson:     </th> <td>   1.976</td>\n",
       "</tr>\n",
       "<tr>\n",
       "  <th>Prob(Omnibus):</th> <td> 0.983</td> <th>  Jarque-Bera (JB):  </th> <td>   0.199</td>\n",
       "</tr>\n",
       "<tr>\n",
       "  <th>Skew:</th>          <td>-0.101</td> <th>  Prob(JB):          </th> <td>   0.905</td>\n",
       "</tr>\n",
       "<tr>\n",
       "  <th>Kurtosis:</th>      <td> 2.340</td> <th>  Cond. No.          </th> <td>    10.3</td>\n",
       "</tr>\n",
       "</table>"
      ],
      "text/plain": [
       "<class 'statsmodels.iolib.summary.Summary'>\n",
       "\"\"\"\n",
       "                            OLS Regression Results                            \n",
       "==============================================================================\n",
       "Dep. Variable:                  gross   R-squared:                       0.494\n",
       "Model:                            OLS   Adj. R-squared:                  0.431\n",
       "Method:                 Least Squares   F-statistic:                     7.818\n",
       "Date:                Fri, 24 Apr 2015   Prob (F-statistic):             0.0233\n",
       "Time:                        09:54:58   Log-Likelihood:                -120.34\n",
       "No. Observations:                  10   AIC:                             244.7\n",
       "Df Residuals:                       8   BIC:                             245.3\n",
       "Df Model:                           1                                         \n",
       "Covariance Type:            nonrobust                                         \n",
       "==============================================================================\n",
       "                 coef    std err          t      P>|t|      [95.0% Conf. Int.]\n",
       "------------------------------------------------------------------------------\n",
       "Intercept   8.961e+04   2.55e+04      3.519      0.008      3.09e+04  1.48e+05\n",
       "oscars      1.249e+04   4466.346      2.796      0.023      2189.195  2.28e+04\n",
       "==============================================================================\n",
       "Omnibus:                        0.034   Durbin-Watson:                   1.976\n",
       "Prob(Omnibus):                  0.983   Jarque-Bera (JB):                0.199\n",
       "Skew:                          -0.101   Prob(JB):                        0.905\n",
       "Kurtosis:                       2.340   Cond. No.                         10.3\n",
       "==============================================================================\n",
       "\n",
       "Warnings:\n",
       "[1] Standard Errors assume that the covariance matrix of the errors is correctly specified.\n",
       "\"\"\""
      ]
     },
     "execution_count": 26,
     "metadata": {},
     "output_type": "execute_result"
    }
   ],
   "source": [
    "oscgross_lm = smf.ols(formula='gross ~ oscars', data=mdoscall).fit()\n",
    "oscgross_lm.summary()"
   ]
  },
  {
   "cell_type": "code",
   "execution_count": 27,
   "metadata": {
    "collapsed": false
   },
   "outputs": [
    {
     "data": {
      "text/html": [
       "<table class=\"simpletable\">\n",
       "<caption>OLS Regression Results</caption>\n",
       "<tr>\n",
       "  <th>Dep. Variable:</th>        <td>theaters</td>     <th>  R-squared:         </th> <td>   0.575</td>\n",
       "</tr>\n",
       "<tr>\n",
       "  <th>Model:</th>                   <td>OLS</td>       <th>  Adj. R-squared:    </th> <td>   0.521</td>\n",
       "</tr>\n",
       "<tr>\n",
       "  <th>Method:</th>             <td>Least Squares</td>  <th>  F-statistic:       </th> <td>   10.81</td>\n",
       "</tr>\n",
       "<tr>\n",
       "  <th>Date:</th>             <td>Fri, 24 Apr 2015</td> <th>  Prob (F-statistic):</th>  <td>0.0111</td> \n",
       "</tr>\n",
       "<tr>\n",
       "  <th>Time:</th>                 <td>09:55:00</td>     <th>  Log-Likelihood:    </th> <td> -76.179</td>\n",
       "</tr>\n",
       "<tr>\n",
       "  <th>No. Observations:</th>      <td>    10</td>      <th>  AIC:               </th> <td>   156.4</td>\n",
       "</tr>\n",
       "<tr>\n",
       "  <th>Df Residuals:</th>          <td>     8</td>      <th>  BIC:               </th> <td>   157.0</td>\n",
       "</tr>\n",
       "<tr>\n",
       "  <th>Df Model:</th>              <td>     1</td>      <th>                     </th>     <td> </td>   \n",
       "</tr>\n",
       "<tr>\n",
       "  <th>Covariance Type:</th>      <td>nonrobust</td>    <th>                     </th>     <td> </td>   \n",
       "</tr>\n",
       "</table>\n",
       "<table class=\"simpletable\">\n",
       "<tr>\n",
       "      <td></td>         <th>coef</th>     <th>std err</th>      <th>t</th>      <th>P>|t|</th> <th>[95.0% Conf. Int.]</th> \n",
       "</tr>\n",
       "<tr>\n",
       "  <th>Intercept</th> <td> 1689.9285</td> <td>  307.489</td> <td>    5.496</td> <td> 0.001</td> <td>  980.857  2399.000</td>\n",
       "</tr>\n",
       "<tr>\n",
       "  <th>oscars</th>    <td>  177.3180</td> <td>   53.937</td> <td>    3.287</td> <td> 0.011</td> <td>   52.939   301.697</td>\n",
       "</tr>\n",
       "</table>\n",
       "<table class=\"simpletable\">\n",
       "<tr>\n",
       "  <th>Omnibus:</th>       <td> 4.004</td> <th>  Durbin-Watson:     </th> <td>   2.804</td>\n",
       "</tr>\n",
       "<tr>\n",
       "  <th>Prob(Omnibus):</th> <td> 0.135</td> <th>  Jarque-Bera (JB):  </th> <td>   0.945</td>\n",
       "</tr>\n",
       "<tr>\n",
       "  <th>Skew:</th>          <td>-0.582</td> <th>  Prob(JB):          </th> <td>   0.624</td>\n",
       "</tr>\n",
       "<tr>\n",
       "  <th>Kurtosis:</th>      <td> 3.956</td> <th>  Cond. No.          </th> <td>    10.3</td>\n",
       "</tr>\n",
       "</table>"
      ],
      "text/plain": [
       "<class 'statsmodels.iolib.summary.Summary'>\n",
       "\"\"\"\n",
       "                            OLS Regression Results                            \n",
       "==============================================================================\n",
       "Dep. Variable:               theaters   R-squared:                       0.575\n",
       "Model:                            OLS   Adj. R-squared:                  0.521\n",
       "Method:                 Least Squares   F-statistic:                     10.81\n",
       "Date:                Fri, 24 Apr 2015   Prob (F-statistic):             0.0111\n",
       "Time:                        09:55:00   Log-Likelihood:                -76.179\n",
       "No. Observations:                  10   AIC:                             156.4\n",
       "Df Residuals:                       8   BIC:                             157.0\n",
       "Df Model:                           1                                         \n",
       "Covariance Type:            nonrobust                                         \n",
       "==============================================================================\n",
       "                 coef    std err          t      P>|t|      [95.0% Conf. Int.]\n",
       "------------------------------------------------------------------------------\n",
       "Intercept   1689.9285    307.489      5.496      0.001       980.857  2399.000\n",
       "oscars       177.3180     53.937      3.287      0.011        52.939   301.697\n",
       "==============================================================================\n",
       "Omnibus:                        4.004   Durbin-Watson:                   2.804\n",
       "Prob(Omnibus):                  0.135   Jarque-Bera (JB):                0.945\n",
       "Skew:                          -0.582   Prob(JB):                        0.624\n",
       "Kurtosis:                       3.956   Cond. No.                         10.3\n",
       "==============================================================================\n",
       "\n",
       "Warnings:\n",
       "[1] Standard Errors assume that the covariance matrix of the errors is correctly specified.\n",
       "\"\"\""
      ]
     },
     "execution_count": 27,
     "metadata": {},
     "output_type": "execute_result"
    }
   ],
   "source": [
    "osctheat_lm = smf.ols(formula='theaters ~ oscars', data=mdoscall).fit()\n",
    "osctheat_lm.summary()"
   ]
  },
  {
   "cell_type": "code",
   "execution_count": 28,
   "metadata": {
    "collapsed": false
   },
   "outputs": [
    {
     "name": "stdout",
     "output_type": "stream",
     "text": [
      "Populating the interactive namespace from numpy and matplotlib\n"
     ]
    },
    {
     "name": "stderr",
     "output_type": "stream",
     "text": [
      "WARNING: pylab import has clobbered these variables: ['f', 'linalg', 'draw_if_interactive', 'random', 'power', 'info', 'fft']\n",
      "`%matplotlib` prevents importing * from pylab and numpy\n"
     ]
    },
    {
     "data": {
      "text/plain": [
       "{'boxes': [<matplotlib.lines.Line2D at 0x1102a36d0>,\n",
       "  <matplotlib.lines.Line2D at 0x1102c6950>],\n",
       " 'caps': [<matplotlib.lines.Line2D at 0x1102bb650>,\n",
       "  <matplotlib.lines.Line2D at 0x1102bbc90>,\n",
       "  <matplotlib.lines.Line2D at 0x1102d1c50>,\n",
       "  <matplotlib.lines.Line2D at 0x1102dd2d0>],\n",
       " 'fliers': [],\n",
       " 'means': [],\n",
       " 'medians': [<matplotlib.lines.Line2D at 0x1102c6310>,\n",
       "  <matplotlib.lines.Line2D at 0x1102dd910>],\n",
       " 'whiskers': [<matplotlib.lines.Line2D at 0x1102a3950>,\n",
       "  <matplotlib.lines.Line2D at 0x1102a3fd0>,\n",
       "  <matplotlib.lines.Line2D at 0x1102c6f90>,\n",
       "  <matplotlib.lines.Line2D at 0x1102d1610>]}"
      ]
     },
     "execution_count": 28,
     "metadata": {},
     "output_type": "execute_result"
    },
    {
     "data": {
      "image/png": "[encoded data removed]",
      "text/plain": [
       "<matplotlib.figure.Figure at 0x110142e10>"
      ]
     },
     "metadata": {},
     "output_type": "display_data"
    }
   ],
   "source": [
    "%pylab inline\n",
    "plt.title('Mean Sales per Theater by Awarded=False/True', fontweight='bold')\n",
    "data=[mdmf['gross'], mdmt['gross']]\n",
    "plt.xlabel('Left: Nominated but no Oscars  -  Right: Nominated and won Oscar/s')\n",
    "plt.boxplot(data, 0, '', manage_xticks=True)"
   ]
  },
  {
   "cell_type": "code",
   "execution_count": 29,
   "metadata": {
    "collapsed": false
   },
   "outputs": [
    {
     "data": {
      "text/plain": [
       "[<matplotlib.lines.Line2D at 0x110419c90>]"
      ]
     },
     "execution_count": 29,
     "metadata": {},
     "output_type": "execute_result"
    },
    {
     "data": {
      "image/png": "[encoded data removed]",
      "text/plain": [
       "<matplotlib.figure.Figure at 0x110135090>"
      ]
     },
     "metadata": {},
     "output_type": "display_data"
    }
   ],
   "source": [
    "plt.scatter(mdmf['year'], mdmf['gross'], alpha=0.9, s=80, color='blue')\n",
    "plt.title('Nominated Movies: Sales Avg. per Theater by Year', fontweight='bold')\n",
    "plt.xlabel(\"Years\")\n",
    "plt.ylabel(\"Sales Avg. per Theater\")\n",
    "plt.plot(mdmf['year'], mdmf_lm.params[0] + (mdmf_lm.params[1] * mdmf['year']), 'r', alpha=0.9)"
   ]
  },
  {
   "cell_type": "code",
   "execution_count": 30,
   "metadata": {
    "collapsed": false
   },
   "outputs": [
    {
     "data": {
      "text/plain": [
       "[<matplotlib.lines.Line2D at 0x110578a10>]"
      ]
     },
     "execution_count": 30,
     "metadata": {},
     "output_type": "execute_result"
    },
    {
     "data": {
      "image/png": "[encoded data removed]",
      "text/plain": [
       "<matplotlib.figure.Figure at 0x110476e90>"
      ]
     },
     "metadata": {},
     "output_type": "display_data"
    }
   ],
   "source": [
    "plt.scatter(mdmt['year'], mdmt['gross'], alpha=0.9, s=80, color='orange')\n",
    "plt.title('Oscars Winners: Avg. Sales Avg. by Theater by Year', fontweight='bold')\n",
    "plt.ylim(60000, 240000)\n",
    "plt.xlabel(\"Years\")\n",
    "plt.ylabel(\"Sales Avg. per Theater\")\n",
    "plt.plot(mdmt['year'], mdmt_lm.params[0] + (mdmt_lm.params[1] * mdmt['year']), 'r', alpha=0.9)"
   ]
  },
  {
   "cell_type": "code",
   "execution_count": 31,
   "metadata": {
    "collapsed": false
   },
   "outputs": [
    {
     "data": {
      "text/plain": [
       "[<matplotlib.lines.Line2D at 0x1106bc350>]"
      ]
     },
     "execution_count": 31,
     "metadata": {},
     "output_type": "execute_result"
    },
    {
     "data": {
      "image/png": "[encoded data removed]",
      "text/plain": [
       "<matplotlib.figure.Figure at 0x1105c02d0>"
      ]
     },
     "metadata": {},
     "output_type": "display_data"
    }
   ],
   "source": [
    "plt.scatter(md['nominations'], md['oscars'], alpha=0.6, s=80, color='orange')\n",
    "plt.title('Number of Oscars by Number of Nominations', fontweight='bold')\n",
    "plt.xlabel(\"Number of Nomination\")\n",
    "plt.ylabel(\"Number of Oscars\")\n",
    "plt.plot(md['nominations'], mdth_lm.params[0] + (mdth_lm.params[1] * md['nominations']), 'r', alpha=0.9)"
   ]
  },
  {
   "cell_type": "code",
   "execution_count": 32,
   "metadata": {
    "collapsed": false
   },
   "outputs": [
    {
     "data": {
      "text/plain": [
       "[<matplotlib.lines.Line2D at 0x1107ef710>]"
      ]
     },
     "execution_count": 32,
     "metadata": {},
     "output_type": "execute_result"
    },
    {
     "data": {
      "image/png": "[encoded data removed]",
      "text/plain": [
       "<matplotlib.figure.Figure at 0x1106eed10>"
      ]
     },
     "metadata": {},
     "output_type": "display_data"
    }
   ],
   "source": [
    "plt.scatter(mdnom['nominations'], mdnom['gross'], alpha=0.9, s=80, color='blue')\n",
    "plt.scatter(mdnom['oscars'], mdnom['gross'], alpha=0.9, s=80, color='orange')\n",
    "plt.title('Sales Avg. per Theater by Nominations and Oscars', fontweight='bold')\n",
    "plt.ylim(50000, 350000)\n",
    "plt.xlabel(\"Nominations and corresponding Mean of Oscars\")\n",
    "plt.ylabel(\"Sales Avg. per Theater\")\n",
    "plt.plot(mdnom['nominations'], nomoscgross_lm.params[0] + (nomoscgross_lm.params[1] * mdnom['nominations'])\\\n",
    "        + (nomoscgross_lm.params[2] * mdnom['oscars']), 'r', alpha=0.9)"
   ]
  },
  {
   "cell_type": "code",
   "execution_count": 33,
   "metadata": {
    "collapsed": false
   },
   "outputs": [
    {
     "data": {
      "text/plain": [
       "[<matplotlib.lines.Line2D at 0x110926490>]"
      ]
     },
     "execution_count": 33,
     "metadata": {},
     "output_type": "execute_result"
    },
    {
     "data": {
      "image/png": "[encoded data removed]",
      "text/plain": [
       "<matplotlib.figure.Figure at 0x1108192d0>"
      ]
     },
     "metadata": {},
     "output_type": "display_data"
    }
   ],
   "source": [
    "plt.scatter(mdnom['nominations'], mdnom['gross'], alpha=0.9, s=80, color='blue')\n",
    "plt.title('Sales Avg. per Theater by Nominations', fontweight='bold')\n",
    "plt.ylim(50000, 350000)\n",
    "plt.xlabel(\"Number of Nominations\")\n",
    "plt.ylabel(\"Sales Avg. per Theater\")\n",
    "plt.plot(mdnom['nominations'], nomgross_lm.params[0] + (nomgross_lm.params[1] * mdnom['nominations']), 'r', alpha=0.9)"
   ]
  },
  {
   "cell_type": "code",
   "execution_count": 34,
   "metadata": {
    "collapsed": false
   },
   "outputs": [
    {
     "data": {
      "text/plain": [
       "[<matplotlib.lines.Line2D at 0x110a49cd0>]"
      ]
     },
     "execution_count": 34,
     "metadata": {},
     "output_type": "execute_result"
    },
    {
     "data": {
      "image/png": "[encoded data removed]",
      "text/plain": [
       "<matplotlib.figure.Figure at 0x1106c8190>"
      ]
     },
     "metadata": {},
     "output_type": "display_data"
    }
   ],
   "source": [
    "plt.scatter(mdoscall['oscars'], mdoscall['gross'], alpha=0.9, s=80, color='orange')\n",
    "plt.title('Sales Avg. per Theater by Oscars', fontweight='bold')\n",
    "plt.xlabel(\"Number of Oscars\")\n",
    "plt.ylabel(\"Sales Avg. per Theater\")\n",
    "plt.plot(mdoscall['oscars'], oscgross_lm.params[0] + (oscgross_lm.params[1] * mdoscall['oscars']), 'r', alpha=0.9)"
   ]
  },
  {
   "cell_type": "code",
   "execution_count": 35,
   "metadata": {
    "collapsed": false
   },
   "outputs": [
    {
     "data": {
      "text/plain": [
       "[<matplotlib.lines.Line2D at 0x110b79d10>]"
      ]
     },
     "execution_count": 35,
     "metadata": {},
     "output_type": "execute_result"
    },
    {
     "data": {
      "image/png": "[encoded data removed]",
      "text/plain": [
       "<matplotlib.figure.Figure at 0x1106d5450>"
      ]
     },
     "metadata": {},
     "output_type": "display_data"
    }
   ],
   "source": [
    "plt.scatter(mdnom['nominations'], mdnom['theaters'], alpha=0.9, s=80, color='blue')\n",
    "plt.title('Avg. Number of Theaters by Nominations', fontweight='bold')\n",
    "plt.ylim(1000, 4000)\n",
    "plt.xlabel(\"Number of Nominations\")\n",
    "plt.ylabel(\"Avg. Number of Theaters\")\n",
    "plt.plot(mdnom['nominations'], nomtheat_lm.params[0] + (nomtheat_lm.params[1] * mdnom['nominations']), 'r', alpha=0.9)"
   ]
  },
  {
   "cell_type": "code",
   "execution_count": 36,
   "metadata": {
    "collapsed": false
   },
   "outputs": [
    {
     "data": {
      "text/plain": [
       "[<matplotlib.lines.Line2D at 0x110ca6510>]"
      ]
     },
     "execution_count": 36,
     "metadata": {},
     "output_type": "execute_result"
    },
    {
     "data": {
      "image/png": "[encoded data removed]",
      "text/plain": [
       "<matplotlib.figure.Figure at 0x110bb8bd0>"
      ]
     },
     "metadata": {},
     "output_type": "display_data"
    }
   ],
   "source": [
    "plt.scatter(mdoscall['oscars'], mdoscall['theaters'], alpha=0.9, s=80, color='orange')\n",
    "plt.title('Avg. Number of Theaters by Oscars', fontweight='bold')\n",
    "plt.xlabel(\"Number of Oscars\")\n",
    "plt.ylabel(\"Avg. Number of Theaters\")\n",
    "plt.plot(mdoscall['oscars'], osctheat_lm.params[0] + (osctheat_lm.params[1] * mdoscall['oscars']), 'r', alpha=0.9)"
   ]
  },
  {
   "cell_type": "code",
   "execution_count": 37,
   "metadata": {
    "collapsed": true
   },
   "outputs": [],
   "source": [
    "plt.show()"
   ]
  },
  {
   "cell_type": "code",
   "execution_count": 38,
   "metadata": {
    "collapsed": false
   },
   "outputs": [
    {
     "data": {
      "text/plain": [
       "162"
      ]
     },
     "execution_count": 38,
     "metadata": {},
     "output_type": "execute_result"
    }
   ],
   "source": [
    "len(mdw)"
   ]
  },
  {
   "cell_type": "code",
   "execution_count": 39,
   "metadata": {
    "collapsed": false
   },
   "outputs": [
    {
     "data": {
      "text/html": [
       "<table class=\"simpletable\">\n",
       "<caption>OLS Regression Results</caption>\n",
       "<tr>\n",
       "  <th>Dep. Variable:</th>       <td>worldgross</td>    <th>  R-squared:         </th> <td>   0.526</td> \n",
       "</tr>\n",
       "<tr>\n",
       "  <th>Model:</th>                   <td>OLS</td>       <th>  Adj. R-squared:    </th> <td>   0.523</td> \n",
       "</tr>\n",
       "<tr>\n",
       "  <th>Method:</th>             <td>Least Squares</td>  <th>  F-statistic:       </th> <td>   199.4</td> \n",
       "</tr>\n",
       "<tr>\n",
       "  <th>Date:</th>             <td>Fri, 24 Apr 2015</td> <th>  Prob (F-statistic):</th> <td>5.64e-87</td> \n",
       "</tr>\n",
       "<tr>\n",
       "  <th>Time:</th>                 <td>09:55:24</td>     <th>  Log-Likelihood:    </th> <td> -11131.</td> \n",
       "</tr>\n",
       "<tr>\n",
       "  <th>No. Observations:</th>      <td>   543</td>      <th>  AIC:               </th> <td>2.227e+04</td>\n",
       "</tr>\n",
       "<tr>\n",
       "  <th>Df Residuals:</th>          <td>   539</td>      <th>  BIC:               </th> <td>2.229e+04</td>\n",
       "</tr>\n",
       "<tr>\n",
       "  <th>Df Model:</th>              <td>     3</td>      <th>                     </th>     <td> </td>    \n",
       "</tr>\n",
       "<tr>\n",
       "  <th>Covariance Type:</th>      <td>nonrobust</td>    <th>                     </th>     <td> </td>    \n",
       "</tr>\n",
       "</table>\n",
       "<table class=\"simpletable\">\n",
       "<tr>\n",
       "       <td></td>          <th>coef</th>     <th>std err</th>      <th>t</th>      <th>P>|t|</th> <th>[95.0% Conf. Int.]</th> \n",
       "</tr>\n",
       "<tr>\n",
       "  <th>Intercept</th>   <td>-5.674e+07</td> <td> 1.49e+07</td> <td>   -3.801</td> <td> 0.000</td> <td>-8.61e+07 -2.74e+07</td>\n",
       "</tr>\n",
       "<tr>\n",
       "  <th>theaters</th>    <td> 1.365e+05</td> <td> 6013.195</td> <td>   22.692</td> <td> 0.000</td> <td> 1.25e+05  1.48e+05</td>\n",
       "</tr>\n",
       "<tr>\n",
       "  <th>nominations</th> <td>-1.051e+06</td> <td> 4.82e+06</td> <td>   -0.218</td> <td> 0.828</td> <td>-1.05e+07  8.42e+06</td>\n",
       "</tr>\n",
       "<tr>\n",
       "  <th>oscars</th>      <td> 2.974e+07</td> <td> 9.88e+06</td> <td>    3.009</td> <td> 0.003</td> <td> 1.03e+07  4.92e+07</td>\n",
       "</tr>\n",
       "</table>\n",
       "<table class=\"simpletable\">\n",
       "<tr>\n",
       "  <th>Omnibus:</th>       <td>530.093</td> <th>  Durbin-Watson:     </th> <td>   1.055</td> \n",
       "</tr>\n",
       "<tr>\n",
       "  <th>Prob(Omnibus):</th> <td> 0.000</td>  <th>  Jarque-Bera (JB):  </th> <td>34645.431</td>\n",
       "</tr>\n",
       "<tr>\n",
       "  <th>Skew:</th>          <td> 4.105</td>  <th>  Prob(JB):          </th> <td>    0.00</td> \n",
       "</tr>\n",
       "<tr>\n",
       "  <th>Kurtosis:</th>      <td>41.261</td>  <th>  Cond. No.          </th> <td>4.14e+03</td> \n",
       "</tr>\n",
       "</table>"
      ],
      "text/plain": [
       "<class 'statsmodels.iolib.summary.Summary'>\n",
       "\"\"\"\n",
       "                            OLS Regression Results                            \n",
       "==============================================================================\n",
       "Dep. Variable:             worldgross   R-squared:                       0.526\n",
       "Model:                            OLS   Adj. R-squared:                  0.523\n",
       "Method:                 Least Squares   F-statistic:                     199.4\n",
       "Date:                Fri, 24 Apr 2015   Prob (F-statistic):           5.64e-87\n",
       "Time:                        09:55:24   Log-Likelihood:                -11131.\n",
       "No. Observations:                 543   AIC:                         2.227e+04\n",
       "Df Residuals:                     539   BIC:                         2.229e+04\n",
       "Df Model:                           3                                         \n",
       "Covariance Type:            nonrobust                                         \n",
       "===============================================================================\n",
       "                  coef    std err          t      P>|t|      [95.0% Conf. Int.]\n",
       "-------------------------------------------------------------------------------\n",
       "Intercept   -5.674e+07   1.49e+07     -3.801      0.000     -8.61e+07 -2.74e+07\n",
       "theaters     1.365e+05   6013.195     22.692      0.000      1.25e+05  1.48e+05\n",
       "nominations -1.051e+06   4.82e+06     -0.218      0.828     -1.05e+07  8.42e+06\n",
       "oscars       2.974e+07   9.88e+06      3.009      0.003      1.03e+07  4.92e+07\n",
       "==============================================================================\n",
       "Omnibus:                      530.093   Durbin-Watson:                   1.055\n",
       "Prob(Omnibus):                  0.000   Jarque-Bera (JB):            34645.431\n",
       "Skew:                           4.105   Prob(JB):                         0.00\n",
       "Kurtosis:                      41.261   Cond. No.                     4.14e+03\n",
       "==============================================================================\n",
       "\n",
       "Warnings:\n",
       "[1] Standard Errors assume that the covariance matrix of the errors is correctly specified.\n",
       "[2] The condition number is large, 4.14e+03. This might indicate that there are\n",
       "strong multicollinearity or other numerical problems.\n",
       "\"\"\""
      ]
     },
     "execution_count": 39,
     "metadata": {},
     "output_type": "execute_result"
    }
   ],
   "source": [
    "all_lm = smf.ols(formula='worldgross ~ theaters + nominations + oscars', data=md).fit()\n",
    "all_lm.summary()"
   ]
  },
  {
   "cell_type": "code",
   "execution_count": 40,
   "metadata": {
    "collapsed": false
   },
   "outputs": [
    {
     "data": {
      "text/html": [
       "<div style=\"max-height:1000px;max-width:1500px;overflow:auto;\">\n",
       "<table border=\"1\" class=\"dataframe\">\n",
       "  <thead>\n",
       "    <tr style=\"text-align: right;\">\n",
       "      <th></th>\n",
       "      <th>nominations</th>\n",
       "      <th>oscars</th>\n",
       "      <th>theaters</th>\n",
       "      <th>title</th>\n",
       "      <th>worldgross</th>\n",
       "      <th>year</th>\n",
       "      <th>gross</th>\n",
       "      <th>awarded</th>\n",
       "    </tr>\n",
       "  </thead>\n",
       "  <tbody>\n",
       "    <tr>\n",
       "      <th>351</th>\n",
       "      <td> 9</td>\n",
       "      <td> 3</td>\n",
       "      <td> 3461</td>\n",
       "      <td> Avatar</td>\n",
       "      <td> 2787965087</td>\n",
       "      <td>2009-12-31</td>\n",
       "      <td> 805537.442069</td>\n",
       "      <td> True</td>\n",
       "    </tr>\n",
       "  </tbody>\n",
       "</table>\n",
       "</div>"
      ],
      "text/plain": [
       "     nominations  oscars  theaters   title  worldgross       year  \\\n",
       "351            9       3      3461  Avatar  2787965087 2009-12-31   \n",
       "\n",
       "             gross awarded  \n",
       "351  805537.442069    True  "
      ]
     },
     "execution_count": 40,
     "metadata": {},
     "output_type": "execute_result"
    }
   ],
   "source": [
    "md[md.title == ('Avatar')]"
   ]
  },
  {
   "cell_type": "code",
   "execution_count": 41,
   "metadata": {
    "collapsed": false
   },
   "outputs": [
    {
     "ename": "SyntaxError",
     "evalue": "invalid syntax (<ipython-input-41-45e4bab994ab>, line 1)",
     "output_type": "error",
     "traceback": [
      "\u001b[0;36m  File \u001b[0;32m\"<ipython-input-41-45e4bab994ab>\"\u001b[0;36m, line \u001b[0;32m1\u001b[0m\n\u001b[0;31m    md[md.year == ]\u001b[0m\n\u001b[0m                  ^\u001b[0m\n\u001b[0;31mSyntaxError\u001b[0m\u001b[0;31m:\u001b[0m invalid syntax\n"
     ]
    }
   ],
   "source": [
    "md[md.year == ]"
   ]
  },
  {
   "cell_type": "code",
   "execution_count": null,
   "metadata": {
    "collapsed": true
   },
   "outputs": [],
   "source": []
  }
 ],
 "metadata": {
  "kernelspec": {
   "display_name": "Python 2",
   "language": "python",
   "name": "python2"
  },
  "language_info": {
   "codemirror_mode": {
    "name": "ipython",
    "version": 2
   },
   "file_extension": ".py",
   "mimetype": "text/x-python",
   "name": "python",
   "nbconvert_exporter": "python",
   "pygments_lexer": "ipython2",
   "version": "2.7.9"
  }
 },
 "nbformat": 4,
 "nbformat_minor": 0
}

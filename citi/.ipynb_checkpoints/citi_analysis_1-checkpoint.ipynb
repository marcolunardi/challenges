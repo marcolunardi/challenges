{
 "cells": [
  {
   "cell_type": "code",
   "execution_count": 17,
   "metadata": {
    "collapsed": false
   },
   "outputs": [],
   "source": [
    "import csv\n",
    "import pandas as pd\n",
    "from pandas import *\n",
    "from __future__ import division\n",
    "from pandas.tseries.offsets import *\n",
    "import dateutil.rrule as dr\n",
    "import dateutil.parser as dp\n",
    "import dateutil.relativedelta as drel\n",
    "import numpy as np\n",
    "import matplotlib.pyplot as plt\n",
    "import statsmodels.api as sm\n",
    "import matplotlib.pyplot as plt"
   ]
  },
  {
   "cell_type": "code",
   "execution_count": 36,
   "metadata": {
    "collapsed": false
   },
   "outputs": [],
   "source": [
    "clicks = read_csv('/Users/marco/documents/github/data/clicks.csv', delimiter='\\t', header=0, usecols=[0,1,2,3,4,5,6])\n",
    "users = read_csv('/Users/marco/documents/github/data/users.csv', delimiter='\\t', header=0, usecols=[0,1,2])\n",
    "products = read_csv('/Users/marco/documents/github/data/products.csv', delimiter='\\t', header=0, usecols=[0,1])"
   ]
  },
  {
   "cell_type": "code",
   "execution_count": 37,
   "metadata": {
    "collapsed": false
   },
   "outputs": [
    {
     "data": {
      "text/html": [
       "<div>\n",
       "<table border=\"1\" class=\"dataframe\">\n",
       "  <thead>\n",
       "    <tr style=\"text-align: right;\">\n",
       "      <th></th>\n",
       "      <th>Timestamp</th>\n",
       "      <th>IP Address</th>\n",
       "      <th>URL</th>\n",
       "      <th>User ID</th>\n",
       "      <th>City</th>\n",
       "      <th>Region/State</th>\n",
       "      <th>Country</th>\n",
       "    </tr>\n",
       "  </thead>\n",
       "  <tbody>\n",
       "    <tr>\n",
       "      <th>0</th>\n",
       "      <td>22-03-2012 01:17</td>\n",
       "      <td>99.122.210.17</td>\n",
       "      <td>https://www.ideatory-store.com/SH51443900/VD61...</td>\n",
       "      <td>6YBY0MC9-IMGB-F69S-8BLX-2NHAMVT8D0F3</td>\n",
       "      <td>Homestead</td>\n",
       "      <td>Florida</td>\n",
       "      <td>United States of America</td>\n",
       "    </tr>\n",
       "    <tr>\n",
       "      <th>1</th>\n",
       "      <td>22-03-2012 01:34</td>\n",
       "      <td>69.76.12.236</td>\n",
       "      <td>https://www.ideatory-store.com/SH51443900/VD30...</td>\n",
       "      <td>4MPY5H71-14AO-Z591-YCKB-K4288KV6V8WH</td>\n",
       "      <td>Coeur D Alene</td>\n",
       "      <td>Idaho</td>\n",
       "      <td>United States of America</td>\n",
       "    </tr>\n",
       "    <tr>\n",
       "      <th>2</th>\n",
       "      <td>22-03-2012 17:23</td>\n",
       "      <td>67.240.15.11</td>\n",
       "      <td>https://www.ideatory-store.com/SH51443900/VD96...</td>\n",
       "      <td>KTZML6WD-V8GA-JBW9-UWOS-XW2W0K38Y876</td>\n",
       "      <td>Queensbury</td>\n",
       "      <td>New York</td>\n",
       "      <td>United States of America</td>\n",
       "    </tr>\n",
       "  </tbody>\n",
       "</table>\n",
       "</div>"
      ],
      "text/plain": [
       "          Timestamp     IP Address  \\\n",
       "0  22-03-2012 01:17  99.122.210.17   \n",
       "1  22-03-2012 01:34   69.76.12.236   \n",
       "2  22-03-2012 17:23   67.240.15.11   \n",
       "\n",
       "                                                 URL  \\\n",
       "0  https://www.ideatory-store.com/SH51443900/VD61...   \n",
       "1  https://www.ideatory-store.com/SH51443900/VD30...   \n",
       "2  https://www.ideatory-store.com/SH51443900/VD96...   \n",
       "\n",
       "                                User ID           City Region/State  \\\n",
       "0  6YBY0MC9-IMGB-F69S-8BLX-2NHAMVT8D0F3      Homestead      Florida   \n",
       "1  4MPY5H71-14AO-Z591-YCKB-K4288KV6V8WH  Coeur D Alene        Idaho   \n",
       "2  KTZML6WD-V8GA-JBW9-UWOS-XW2W0K38Y876     Queensbury     New York   \n",
       "\n",
       "                    Country  \n",
       "0  United States of America  \n",
       "1  United States of America  \n",
       "2  United States of America  "
      ]
     },
     "execution_count": 37,
     "metadata": {},
     "output_type": "execute_result"
    }
   ],
   "source": [
    "clicks.head(3)"
   ]
  },
  {
   "cell_type": "code",
   "execution_count": 38,
   "metadata": {
    "collapsed": false
   },
   "outputs": [
    {
     "data": {
      "text/html": [
       "<div>\n",
       "<table border=\"1\" class=\"dataframe\">\n",
       "  <thead>\n",
       "    <tr style=\"text-align: right;\">\n",
       "      <th></th>\n",
       "      <th>User ID</th>\n",
       "      <th>Number of friends</th>\n",
       "      <th>College Education</th>\n",
       "    </tr>\n",
       "  </thead>\n",
       "  <tbody>\n",
       "    <tr>\n",
       "      <th>0</th>\n",
       "      <td>72Y0WQ31-XQKU-4LTM-40ZX-PX37G6IK7S59</td>\n",
       "      <td>113</td>\n",
       "      <td>No</td>\n",
       "    </tr>\n",
       "    <tr>\n",
       "      <th>1</th>\n",
       "      <td>5GGQCY44-OK2D-XGS4-GJOY-U4RXBVXF7J3M</td>\n",
       "      <td>99</td>\n",
       "      <td>No</td>\n",
       "    </tr>\n",
       "    <tr>\n",
       "      <th>2</th>\n",
       "      <td>0SIFQG2V-TWFE-0RE7-8DL5-KYR2N4UMTYMY</td>\n",
       "      <td>0</td>\n",
       "      <td>No</td>\n",
       "    </tr>\n",
       "  </tbody>\n",
       "</table>\n",
       "</div>"
      ],
      "text/plain": [
       "                                User ID  Number of friends College Education\n",
       "0  72Y0WQ31-XQKU-4LTM-40ZX-PX37G6IK7S59                113                No\n",
       "1  5GGQCY44-OK2D-XGS4-GJOY-U4RXBVXF7J3M                 99                No\n",
       "2  0SIFQG2V-TWFE-0RE7-8DL5-KYR2N4UMTYMY                  0                No"
      ]
     },
     "execution_count": 38,
     "metadata": {},
     "output_type": "execute_result"
    }
   ],
   "source": [
    "users.head(3)"
   ]
  },
  {
   "cell_type": "code",
   "execution_count": 39,
   "metadata": {
    "collapsed": false
   },
   "outputs": [
    {
     "data": {
      "text/html": [
       "<div>\n",
       "<table border=\"1\" class=\"dataframe\">\n",
       "  <thead>\n",
       "    <tr style=\"text-align: right;\">\n",
       "      <th></th>\n",
       "      <th>URL</th>\n",
       "      <th>Category</th>\n",
       "    </tr>\n",
       "  </thead>\n",
       "  <tbody>\n",
       "    <tr>\n",
       "      <th>0</th>\n",
       "      <td>https://www.ideatory-store.com/</td>\n",
       "      <td>books</td>\n",
       "    </tr>\n",
       "    <tr>\n",
       "      <th>1</th>\n",
       "      <td>https://www.ideatory-store.com/SH51443900/VD21...</td>\n",
       "      <td>movies</td>\n",
       "    </tr>\n",
       "    <tr>\n",
       "      <th>2</th>\n",
       "      <td>https://www.ideatory-store.com/SH51443900/VD66...</td>\n",
       "      <td>games</td>\n",
       "    </tr>\n",
       "  </tbody>\n",
       "</table>\n",
       "</div>"
      ],
      "text/plain": [
       "                                                 URL Category\n",
       "0                    https://www.ideatory-store.com/    books\n",
       "1  https://www.ideatory-store.com/SH51443900/VD21...   movies\n",
       "2  https://www.ideatory-store.com/SH51443900/VD66...    games"
      ]
     },
     "execution_count": 39,
     "metadata": {},
     "output_type": "execute_result"
    }
   ],
   "source": [
    "products.head(3)"
   ]
  },
  {
   "cell_type": "code",
   "execution_count": 40,
   "metadata": {
    "collapsed": false
   },
   "outputs": [
    {
     "data": {
      "text/plain": [
       "(421266, 7)"
      ]
     },
     "execution_count": 40,
     "metadata": {},
     "output_type": "execute_result"
    }
   ],
   "source": [
    "clicks.shape"
   ]
  },
  {
   "cell_type": "code",
   "execution_count": null,
   "metadata": {
    "collapsed": true
   },
   "outputs": [],
   "source": []
  }
 ],
 "metadata": {
  "kernelspec": {
   "display_name": "Python 2",
   "language": "python",
   "name": "python2"
  },
  "language_info": {
   "codemirror_mode": {
    "name": "ipython",
    "version": 2
   },
   "file_extension": ".py",
   "mimetype": "text/x-python",
   "name": "python",
   "nbconvert_exporter": "python",
   "pygments_lexer": "ipython2",
   "version": "2.7.10"
  }
 },
 "nbformat": 4,
 "nbformat_minor": 0
}
